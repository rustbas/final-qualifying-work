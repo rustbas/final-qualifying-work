{
 "cells": [
  {
   "cell_type": "markdown",
   "id": "3c5d2f40",
   "metadata": {},
   "source": [
    "# Библиотеки"
   ]
  },
  {
   "cell_type": "code",
   "execution_count": 255,
   "id": "f6567757",
   "metadata": {},
   "outputs": [],
   "source": [
    "import os\n",
    "import sys\n",
    "import numpy as np\n",
    "import collections\n",
    "from tqdm import tqdm"
   ]
  },
  {
   "cell_type": "markdown",
   "id": "96b3ac5c",
   "metadata": {},
   "source": [
    "# A*"
   ]
  },
  {
   "cell_type": "markdown",
   "id": "bb63e03e",
   "metadata": {},
   "source": [
    "## Инициализация графа "
   ]
  },
  {
   "cell_type": "markdown",
   "id": "faac538a",
   "metadata": {},
   "source": [
    "### Проба пера"
   ]
  },
  {
   "cell_type": "code",
   "execution_count": 256,
   "id": "dc49f793",
   "metadata": {},
   "outputs": [
    {
     "name": "stdout",
     "output_type": "stream",
     "text": [
      "D <-- E\n",
      "E <-- A\n",
      "{'A': None, 'B': 'A', 'E': 'A', 'C': 'B', 'D': 'E'}\n"
     ]
    }
   ],
   "source": [
    "from collections import deque\n",
    "\n",
    "gr = {'A': ['B', 'E'],\n",
    "     'B': ['C'],\n",
    "     'C': ['D'],\n",
    "     'D': [],\n",
    "     'E': ['D']}\n",
    "\n",
    "# gr = {i: [i+1] for i in range(100)}\n",
    "\n",
    "\n",
    "def bfs(graph, start, finish):\n",
    "    queue = deque([start])\n",
    "    visited = {start: None}\n",
    "\n",
    "    while queue:\n",
    "        cur_node = queue.popleft()\n",
    "        if cur_node == finish:\n",
    "            break\n",
    "        next_nodes = graph[cur_node]\n",
    "        for next_node in next_nodes:\n",
    "            if next_node not in visited:\n",
    "                queue.append(next_node)\n",
    "                visited[next_node] = cur_node\n",
    "    return visited\n",
    "\n",
    "\n",
    "s = 'A'\n",
    "g = 'D'\n",
    "\n",
    "visited = bfs(gr, s, g)\n",
    "\n",
    "key = True\n",
    "while key:\n",
    "    if g != s:\n",
    "        print(g +  ' <-- ' + visited[g])\n",
    "        g = visited[g]\n",
    "    else:\n",
    "        key = False\n",
    "\n",
    "print(visited)"
   ]
  },
  {
   "cell_type": "code",
   "execution_count": 257,
   "id": "40d3e6bc",
   "metadata": {},
   "outputs": [
    {
     "name": "stdout",
     "output_type": "stream",
     "text": [
      "B\n",
      "E\n",
      "C\n",
      "D\n"
     ]
    },
    {
     "data": {
      "text/plain": [
       "{'A': None, 'B': 'A', 'E': 'A', 'C': 'B', 'D': 'C'}"
      ]
     },
     "execution_count": 257,
     "metadata": {},
     "output_type": "execute_result"
    }
   ],
   "source": [
    "from heapq import *\n",
    "gr = {'A':[(1, 'B'), (2, 'E')],\n",
    "      'B':[(1, 'C')],\n",
    "      'C':[(1, 'D')],\n",
    "      'D':[],\n",
    "      'E':[(2, 'D')]}\n",
    "\n",
    "def dijkstra(graph, start, finish):\n",
    "    queue = []\n",
    "    heappush(queue, (0, start))\n",
    "    cost_visited = {start: 0}\n",
    "    visited = {start: None}\n",
    "    \n",
    "    while queue:\n",
    "        cur_cost, cur_node = heappop(queue)\n",
    "        if cur_node == finish:\n",
    "            break\n",
    "            \n",
    "        next_nodes = graph[cur_node]\n",
    "        for next_node in next_nodes:\n",
    "            neigh_cost, neigh_node = next_node\n",
    "            new_cost =cost_visited[cur_node] + neigh_cost\n",
    "            \n",
    "            if neigh_node not in cost_visited or new_cost < cost_visited[neigh_node]:\n",
    "                print(neigh_node)\n",
    "                heappush(queue, (new_cost, neigh_node))\n",
    "                cost_visited[neigh_node] = new_cost\n",
    "                visited[neigh_node] = cur_node\n",
    "    return visited\n",
    "\n",
    "res = dijkstra(gr, 'A', 'D')\n",
    "res"
   ]
  },
  {
   "cell_type": "code",
   "execution_count": 258,
   "id": "73a07422",
   "metadata": {},
   "outputs": [
    {
     "name": "stdout",
     "output_type": "stream",
     "text": [
      "['A', 'B', 'C']\n"
     ]
    }
   ],
   "source": [
    "def recover_path(vis, start, goal, path = None): \n",
    "    '''\n",
    "    Важно понимать, что это восстановление рекурсивное\n",
    "    '''\n",
    "    if path == None:\n",
    "        path = []\n",
    "    if start == goal:\n",
    "        return path[::-1]\n",
    "#         return ' --> '.join(path[::-1])\n",
    "    else:\n",
    "        path.append(vis[goal])\n",
    "        return recover_path(vis, start, vis[goal], path)\n",
    "result = recover_path(res, 'A', 'D')\n",
    "print(result)"
   ]
  },
  {
   "cell_type": "code",
   "execution_count": 259,
   "id": "2f644a33",
   "metadata": {},
   "outputs": [],
   "source": [
    "def heuristic(a, b):\n",
    "    return 10000\n",
    "#     return abs(a[0] - b[0]) + abs(a[1] - b[1])"
   ]
  },
  {
   "cell_type": "code",
   "execution_count": 260,
   "id": "e95eaad7",
   "metadata": {},
   "outputs": [
    {
     "name": "stdout",
     "output_type": "stream",
     "text": [
      "['A', 'B', 'C']\n"
     ]
    }
   ],
   "source": [
    "def Astar(graph, start, finish):\n",
    "    queue = []\n",
    "    heappush(queue, (0, start))\n",
    "    cost_visited = {start: 0}\n",
    "    visited = {start: None}\n",
    "    \n",
    "    while queue:\n",
    "        cur_cost, cur_node = heappop(queue)\n",
    "        if cur_node == finish:\n",
    "            break\n",
    "            \n",
    "        next_nodes = graph[cur_node]\n",
    "        for next_node in next_nodes:\n",
    "            neigh_cost, neigh_node = next_node\n",
    "            new_cost =cost_visited[cur_node] + neigh_cost\n",
    "            \n",
    "            if neigh_node not in cost_visited or new_cost < cost_visited[neigh_node]:\n",
    "                priority = new_cost + heuristic(neigh_node, finish)\n",
    "                heappush(queue, (priority, neigh_node))\n",
    "                cost_visited[neigh_node] = new_cost\n",
    "                visited[neigh_node] = cur_node\n",
    "    return visited\n",
    "\n",
    "res = Astar(gr, 'A', 'D')\n",
    "result = recover_path(res, 'A', 'D')\n",
    "print(result)"
   ]
  },
  {
   "cell_type": "code",
   "execution_count": 261,
   "id": "274173c8",
   "metadata": {},
   "outputs": [],
   "source": [
    "graph = {}\n",
    "n = 15\n",
    "m = 80\n",
    "for i in range(n):\n",
    "    for j in range(m):\n",
    "        if i == n-1:\n",
    "            graph[(i,j)] = [(1, (i, j+1))]\n",
    "        elif j == m-1:\n",
    "            graph[(i,j)] = [(1,(i+1,j))]\n",
    "        else:\n",
    "            graph[(i,j)] = [(1,(i+1,j)), (1, (i, j+1)), (2, (i+1, j+1))]\n",
    "# print(graph.values())\n",
    "\n",
    "start = (5,3)\n",
    "goal = (10,65)\n",
    "\n",
    "vis = Astar(graph, start, goal)\n",
    "result = recover_path(vis, start, goal)"
   ]
  },
  {
   "cell_type": "code",
   "execution_count": 262,
   "id": "c5456bf6",
   "metadata": {},
   "outputs": [
    {
     "name": "stdout",
     "output_type": "stream",
     "text": [
      "................................................................................\n",
      "................................................................................\n",
      "................................................................................\n",
      "................................................................................\n",
      "................................................................................\n",
      "...S#########################################################...................\n",
      ".............................................................#..................\n",
      "..............................................................#.................\n",
      "...............................................................#................\n",
      "................................................................#...............\n",
      ".................................................................F..............\n",
      "................................................................................\n",
      "................................................................................\n",
      "................................................................................\n",
      "................................................................................\n"
     ]
    }
   ],
   "source": [
    "for i in range(n):\n",
    "    for j in range(m):\n",
    "        if i == start[0] and j == start[1]:\n",
    "            print('S', end='')\n",
    "        elif (i,j) in result:\n",
    "            print('#', end='')\n",
    "        elif i == goal[0] and j == goal[1]:\n",
    "            print('F', end='')\n",
    "        else:\n",
    "            print('.', end='')\n",
    "    print('\\n', end='')"
   ]
  }
 ],
 "metadata": {
  "kernelspec": {
   "display_name": "Python 3 (ipykernel)",
   "language": "python",
   "name": "python3"
  },
  "language_info": {
   "codemirror_mode": {
    "name": "ipython",
    "version": 3
   },
   "file_extension": ".py",
   "mimetype": "text/x-python",
   "name": "python",
   "nbconvert_exporter": "python",
   "pygments_lexer": "ipython3",
   "version": "3.9.7"
  },
  "toc": {
   "base_numbering": 1,
   "nav_menu": {},
   "number_sections": true,
   "sideBar": true,
   "skip_h1_title": false,
   "title_cell": "Table of Contents",
   "title_sidebar": "Contents",
   "toc_cell": false,
   "toc_position": {},
   "toc_section_display": true,
   "toc_window_display": false
  }
 },
 "nbformat": 4,
 "nbformat_minor": 5
}
