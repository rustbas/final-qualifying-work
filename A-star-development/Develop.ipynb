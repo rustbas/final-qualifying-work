{
 "cells": [
  {
   "cell_type": "markdown",
   "id": "070a1ccc",
   "metadata": {},
   "source": [
    "# Библиотеки"
   ]
  },
  {
   "cell_type": "code",
   "execution_count": 1,
   "id": "723a9a51",
   "metadata": {},
   "outputs": [],
   "source": [
    "import os\n",
    "import sys\n",
    "import numpy as np\n",
    "import collections\n",
    "from tqdm import tqdm"
   ]
  },
  {
   "cell_type": "markdown",
   "id": "d4dbd192",
   "metadata": {},
   "source": [
    "# A*"
   ]
  },
  {
   "cell_type": "markdown",
   "id": "7db59896",
   "metadata": {},
   "source": [
    "## Инициализация графа "
   ]
  },
  {
   "cell_type": "markdown",
   "id": "3cd9ad6a",
   "metadata": {},
   "source": [
    "### Тест инфа с хабра [(Источник)](https://habr.com/ru/post/331220/)"
   ]
  },
  {
   "cell_type": "code",
   "execution_count": 2,
   "id": "f16d4182",
   "metadata": {},
   "outputs": [],
   "source": [
    "class SimpleGraph():\n",
    "    def __init__(self):\n",
    "        self.edges = {}\n",
    "\n",
    "    def neighbors(self, id):\n",
    "        return self.edges[id]"
   ]
  },
  {
   "cell_type": "code",
   "execution_count": 3,
   "id": "eaf6c718",
   "metadata": {},
   "outputs": [],
   "source": [
    "example_graph = SimpleGraph()\n",
    "example_graph.edges = {\n",
    "    'A': ['B'],\n",
    "    'B': ['A', 'C', 'D'],\n",
    "    'C': ['A'],\n",
    "    'D': ['E', 'A'],\n",
    "    'E': ['B']\n",
    "}"
   ]
  },
  {
   "cell_type": "code",
   "execution_count": 4,
   "id": "d7a78b50",
   "metadata": {},
   "outputs": [],
   "source": [
    "class Queue:\n",
    "    def __init__(self):\n",
    "        self.elements = collections.deque()\n",
    "\n",
    "    def empty(self):\n",
    "        return len(self.elements) == 0\n",
    "\n",
    "    def put(self, x):\n",
    "        self.elements.append(x)\n",
    "\n",
    "    def get(self):\n",
    "        return self.elements.popleft()"
   ]
  },
  {
   "cell_type": "code",
   "execution_count": 5,
   "id": "e2133303",
   "metadata": {},
   "outputs": [],
   "source": [
    "from implementation import *"
   ]
  },
  {
   "cell_type": "code",
   "execution_count": 6,
   "id": "7653f4b7",
   "metadata": {},
   "outputs": [],
   "source": [
    "def breadth_first_search_1(graph, start):\n",
    "    # печать того, что мы нашли\n",
    "    frontier = Queue()\n",
    "    frontier.put(start)\n",
    "    visited = {}\n",
    "    visited[start] = True\n",
    "    \n",
    "    while not frontier.empty():\n",
    "        current = frontier.get()\n",
    "        print(\"Visiting %r\" % current)\n",
    "        for next in graph.neighbors(current):\n",
    "            if next not in visited:\n",
    "                frontier.put(next)\n",
    "                visited[next] = True"
   ]
  },
  {
   "cell_type": "code",
   "execution_count": 7,
   "id": "1ef80545",
   "metadata": {},
   "outputs": [
    {
     "name": "stdout",
     "output_type": "stream",
     "text": [
      "Visiting 'C'\n",
      "Visiting 'B'\n",
      "Visiting 'D'\n",
      "Visiting 'F'\n",
      "Visiting 'E'\n"
     ]
    }
   ],
   "source": [
    "breadth_first_search_1(example_graph, 'C')"
   ]
  },
  {
   "cell_type": "code",
   "execution_count": 8,
   "id": "5d22ece6",
   "metadata": {},
   "outputs": [],
   "source": [
    "class SquareGrid:\n",
    "    def __init__(self, width, height):\n",
    "        self.width = width\n",
    "        self.height = height\n",
    "        self.walls = []\n",
    "    \n",
    "    def in_bounds(self, id):\n",
    "        (x, y) = id\n",
    "        return 0 <= x < self.width and 0 <= y < self.height\n",
    "    \n",
    "    def passable(self, id):\n",
    "        return id not in self.walls\n",
    "    \n",
    "    def neighbors(self, id):\n",
    "        (x, y) = id\n",
    "        results = [(x+1, y), (x, y-1), (x-1, y), (x, y+1)]\n",
    "        if (x + y) % 2 == 0: results.reverse() # ради эстетики\n",
    "        results = filter(self.in_bounds, results)\n",
    "        results = filter(self.passable, results)\n",
    "        return results"
   ]
  },
  {
   "cell_type": "code",
   "execution_count": 9,
   "id": "daf3cd79",
   "metadata": {},
   "outputs": [
    {
     "name": "stdout",
     "output_type": "stream",
     "text": [
      "__________________________________________________________________________________________\n",
      " .  .  .  .  .  .  .  .  .  .  .  .  .  .  .  .  .  .  .  .  . ###### .  .  .  .  .  .  . \n",
      " .  .  .  .  .  .  .  .  .  .  .  .  .  .  .  .  .  .  .  .  . ###### .  .  .  .  .  .  . \n",
      " .  .  .  .  .  .  .  .  .  .  .  .  .  .  .  .  .  .  .  .  . ###### .  .  .  .  .  .  . \n",
      " .  .  . ###### .  .  .  .  .  .  .  .  .  .  .  .  .  .  .  . ###### .  .  .  .  .  .  . \n",
      " .  .  . ###### .  .  .  .  .  .  .  . ###### .  .  .  .  .  . ###### .  .  .  .  .  .  . \n",
      " .  .  . ###### .  .  .  .  .  .  .  . ###### .  .  .  .  .  . ############### .  .  .  . \n",
      " .  .  . ###### .  .  .  .  .  .  .  . ###### .  .  .  .  .  . ############### .  .  .  . \n",
      " .  .  . ###### .  .  .  .  .  .  .  . ###### .  .  .  .  .  .  .  .  .  .  .  .  .  .  . \n",
      " .  .  . ###### .  .  .  .  .  .  .  . ###### .  .  .  .  .  .  .  .  .  .  .  .  .  .  . \n",
      " .  .  . ###### .  .  .  .  .  .  .  . ###### .  .  .  .  .  .  .  .  .  .  .  .  .  .  . \n",
      " .  .  . ###### .  .  .  .  .  .  .  . ###### .  .  .  .  .  .  .  .  .  .  .  .  .  .  . \n",
      " .  .  . ###### .  .  .  .  .  .  .  . ###### .  .  .  .  .  .  .  .  .  .  .  .  .  .  . \n",
      " .  .  .  .  .  .  .  .  .  .  .  .  . ###### .  .  .  .  .  .  .  .  .  .  .  .  .  .  . \n",
      " .  .  .  .  .  .  .  .  .  .  .  .  . ###### .  .  .  .  .  .  .  .  .  .  .  .  .  .  . \n",
      " .  .  .  .  .  .  .  .  .  .  .  .  . ###### .  .  .  .  .  .  .  .  .  .  .  .  .  .  . \n",
      "~~~~~~~~~~~~~~~~~~~~~~~~~~~~~~~~~~~~~~~~~~~~~~~~~~~~~~~~~~~~~~~~~~~~~~~~~~~~~~~~~~~~~~~~~~\n"
     ]
    }
   ],
   "source": [
    "g = SquareGrid(30, 15)\n",
    "g.walls = DIAGRAM1_WALLS # список long, [(21, 0), (21, 2), ...]\n",
    "draw_grid(g)"
   ]
  },
  {
   "cell_type": "code",
   "execution_count": 10,
   "id": "bb58a6a0",
   "metadata": {},
   "outputs": [
    {
     "name": "stdout",
     "output_type": "stream",
     "text": [
      "__________________________________________________________________________________________\n",
      " >  >  >  >  v  v  v  v  v  v  v  v  v  v  v  v  <  <  <  <  < ###### v  v  v  v  v  v  v \n",
      " >  >  >  >  >  v  v  v  v  v  v  v  v  v  v  <  <  <  <  <  < ###### v  v  v  v  v  v  v \n",
      " >  >  >  >  >  v  v  v  v  v  v  v  v  v  <  <  <  <  <  <  < ###### >  v  v  v  v  v  v \n",
      " >  >  ^ ###### v  v  v  v  v  v  v  v  <  <  <  <  <  <  <  < ###### >  >  v  v  v  v  v \n",
      " >  ^  ^ ###### >  v  v  v  v  v  v  < ###### ^  <  <  <  <  < ###### >  >  >  v  v  v  v \n",
      " ^  ^  ^ ###### >  >  v  v  v  v  <  < ###### ^  ^  <  <  <  < ############### v  v  v  < \n",
      " ^  ^  ^ ###### >  >  >  v  v  <  <  < ###### ^  ^  ^  <  <  < ############### v  v  <  < \n",
      " ^  ^  ^ ###### >  >  >  A  <  <  <  < ###### ^  ^  ^  ^  <  <  <  <  <  <  <  <  <  <  < \n",
      " v  v  v ###### >  >  ^  ^  ^  <  <  < ###### ^  ^  ^  ^  ^  <  <  <  <  <  <  <  <  <  < \n",
      " v  v  v ###### >  ^  ^  ^  ^  ^  <  < ###### ^  ^  ^  ^  ^  ^  <  <  <  <  <  <  <  <  < \n",
      " v  v  v ###### ^  ^  ^  ^  ^  ^  ^  < ###### ^  ^  ^  ^  ^  ^  ^  <  <  <  <  <  <  <  < \n",
      " >  v  v ###### ^  ^  ^  ^  ^  ^  ^  ^ ###### ^  ^  ^  ^  ^  ^  ^  ^  <  <  <  <  <  <  < \n",
      " >  >  >  >  >  ^  ^  ^  ^  ^  ^  ^  ^ ###### ^  ^  ^  ^  ^  ^  ^  ^  ^  <  <  <  <  <  < \n",
      " >  >  >  >  ^  ^  ^  ^  ^  ^  ^  ^  ^ ###### ^  ^  ^  ^  ^  ^  ^  ^  ^  ^  <  <  <  <  < \n",
      " >  >  >  ^  ^  ^  ^  ^  ^  ^  ^  ^  ^ ###### ^  ^  ^  ^  ^  ^  ^  ^  ^  ^  ^  <  <  <  < \n",
      "~~~~~~~~~~~~~~~~~~~~~~~~~~~~~~~~~~~~~~~~~~~~~~~~~~~~~~~~~~~~~~~~~~~~~~~~~~~~~~~~~~~~~~~~~~\n"
     ]
    }
   ],
   "source": [
    "def breadth_first_search_2(graph, start):\n",
    "    # возвращает \"came_from\"\n",
    "    frontier = Queue()\n",
    "    frontier.put(start)\n",
    "    came_from = {}\n",
    "    came_from[start] = None\n",
    "    \n",
    "    while not frontier.empty():\n",
    "        current = frontier.get()\n",
    "        for next in graph.neighbors(current):\n",
    "            if next not in came_from:\n",
    "                frontier.put(next)\n",
    "                came_from[next] = current\n",
    "    \n",
    "    return came_from\n",
    "\n",
    "g = SquareGrid(30, 15)\n",
    "g.walls = DIAGRAM1_WALLS\n",
    "\n",
    "parents = breadth_first_search_2(g, (8, 7))\n",
    "draw_grid(g, width=2, point_to=parents, start=(8, 7))"
   ]
  },
  {
   "cell_type": "code",
   "execution_count": 11,
   "id": "f8b9165b",
   "metadata": {},
   "outputs": [
    {
     "name": "stdout",
     "output_type": "stream",
     "text": [
      "__________________________________________________________________________________________\n",
      " .  >  >  >  v  v  v  v  v  v  v  v  v  v  v  v  <  .  .  .  . ###### .  .  .  .  .  .  . \n",
      " >  >  >  >  >  v  v  v  v  v  v  v  v  v  v  <  <  <  .  .  . ###### .  .  .  .  .  .  . \n",
      " >  >  >  >  >  v  v  v  v  v  v  v  v  v  <  <  <  Z  .  .  . ###### .  .  .  .  .  .  . \n",
      " >  >  ^ ###### v  v  v  v  v  v  v  v  <  <  <  <  <  <  .  . ###### .  .  .  .  .  .  . \n",
      " .  ^  ^ ###### >  v  v  v  v  v  v  < ###### ^  <  <  .  .  . ###### .  .  .  .  .  .  . \n",
      " .  .  ^ ###### >  >  v  v  v  v  <  < ###### ^  ^  .  .  .  . ############### .  .  .  . \n",
      " .  .  . ###### >  >  >  v  v  <  <  < ###### ^  .  .  .  .  . ############### .  .  .  . \n",
      " .  .  . ###### >  >  >  A  <  <  <  < ###### .  .  .  .  .  .  .  .  .  .  .  .  .  .  . \n",
      " .  .  . ###### >  >  ^  ^  ^  <  <  < ###### .  .  .  .  .  .  .  .  .  .  .  .  .  .  . \n",
      " .  .  v ###### >  ^  ^  ^  ^  ^  <  < ###### .  .  .  .  .  .  .  .  .  .  .  .  .  .  . \n",
      " .  v  v ###### ^  ^  ^  ^  ^  ^  ^  < ###### .  .  .  .  .  .  .  .  .  .  .  .  .  .  . \n",
      " >  v  v ###### ^  ^  ^  ^  ^  ^  ^  ^ ###### .  .  .  .  .  .  .  .  .  .  .  .  .  .  . \n",
      " >  >  >  >  >  ^  ^  ^  ^  ^  ^  ^  ^ ###### .  .  .  .  .  .  .  .  .  .  .  .  .  .  . \n",
      " >  >  >  >  ^  ^  ^  ^  ^  ^  ^  ^  ^ ###### .  .  .  .  .  .  .  .  .  .  .  .  .  .  . \n",
      " .  >  >  ^  ^  ^  ^  ^  ^  ^  ^  ^  ^ ###### .  .  .  .  .  .  .  .  .  .  .  .  .  .  . \n",
      "~~~~~~~~~~~~~~~~~~~~~~~~~~~~~~~~~~~~~~~~~~~~~~~~~~~~~~~~~~~~~~~~~~~~~~~~~~~~~~~~~~~~~~~~~~\n"
     ]
    }
   ],
   "source": [
    "def breadth_first_search_3(graph, start, goal):\n",
    "    frontier = Queue()\n",
    "    frontier.put(start)\n",
    "    came_from = {}\n",
    "    came_from[start] = None\n",
    "    \n",
    "    while not frontier.empty():\n",
    "        current = frontier.get()\n",
    "        \n",
    "        if current == goal:\n",
    "            break\n",
    "        \n",
    "        for next in graph.neighbors(current):\n",
    "            if next not in came_from:\n",
    "                frontier.put(next)\n",
    "                came_from[next] = current\n",
    "    \n",
    "    return came_from\n",
    "\n",
    "g = SquareGrid(30, 15)\n",
    "g.walls = DIAGRAM1_WALLS\n",
    "\n",
    "parents = breadth_first_search_3(g, (8, 7), (17, 2))\n",
    "draw_grid(g, width=2, point_to=parents, start=(8, 7), goal=(17, 2))"
   ]
  },
  {
   "cell_type": "markdown",
   "id": "8f98a00a",
   "metadata": {},
   "source": [
    "### Проба пера"
   ]
  },
  {
   "cell_type": "code",
   "execution_count": 12,
   "id": "99cd6a77",
   "metadata": {},
   "outputs": [],
   "source": [
    "class Node():\n",
    "    '''\n",
    "    W[0] | W[1] | W[2]\n",
    "    ------------------\n",
    "    W[7] | Node | W[3]\n",
    "    ------------------\n",
    "    W[6] | W[5] | W[4]\n",
    "    '''\n",
    "\n",
    "    def __init__(self, coordinates, weights=(1, 1, 1, 1, 1, 1, 1, 1)):\n",
    "        self.x = coordinates[0]\n",
    "        self.y = coordinates[1]\n",
    "#         self.weights = weights\n",
    "#         if type(weights) == dict:\n",
    "#             self.tl = weights['top left']\n",
    "#             self.tm = weights['top middle']\n",
    "#             self.tr = weights['top right']\n",
    "#             self.rm = weights['right middle']\n",
    "#             self.br = weights['bottom right ']\n",
    "#             self.bm = weights['bottom middle']\n",
    "#             self.bl = weights['bottom left']\n",
    "#             self.lm = weights['left middle']\n",
    "#         elif type(weights) == tuple:\n",
    "#             self.tl = weights[0]\n",
    "#             self.tm = weights[1]\n",
    "#             self.tr = weights[2]\n",
    "#             self.rm = weights[3]\n",
    "#             self.br = weights[4]\n",
    "#             self.bm = weights[5]\n",
    "#             self.bl = weights[6]\n",
    "#             self.lm = weights[7]\n",
    "\n",
    "#         if self.x == 0:\n",
    "#             self.weights[0] = np.inf\n",
    "#             self.weights[1] = np.inf\n",
    "#             self.weights[2] = np.inf\n",
    "\n",
    "#         if self.y == 0:\n",
    "#             self.weights[0] = np.inf\n",
    "#             self.weights[7] = np.inf\n",
    "#             self.weights[6] = np.inf\n",
    "\n",
    "    def __str__(self):\n",
    "\n",
    "        weights1 = '{}|{}|{}\\n'.format(self.weights[0],\n",
    "                                     self.weights[1],\n",
    "                                     self.weights[2])\n",
    "        \n",
    "        weights2 = '{}|N|{}\\n'.format(self.weights[7],\n",
    "                                     self.weights[3])\n",
    "        \n",
    "        weights3 = '{}|{}|{}\\n'.format(self.weights[6],\n",
    "                                     self.weights[5],\n",
    "                                     self.weights[4])\n",
    "        weights = '-'*(max(len(weights1), len(weights2), len(weights3))) + '\\n'\n",
    "        \n",
    "        res_weights = weights1 + weights + weights2 + weights + weights3\n",
    "        coordinates = 'x = {}, y = {}'.format(self.x, self.y)\n",
    "\n",
    "        return res_weights + '\\n' + coordinates"
   ]
  },
  {
   "cell_type": "code",
   "execution_count": 13,
   "id": "9301152f",
   "metadata": {},
   "outputs": [],
   "source": [
    "class Node():\n",
    "    '''\n",
    "    W[0] | W[1] | W[2]\n",
    "    ------------------\n",
    "    W[7] | Node | W[3]\n",
    "    ------------------\n",
    "    W[6] | W[5] | W[4]\n",
    "    '''\n",
    "\n",
    "    def __init__(self, coordinates):\n",
    "        self.x = coordinates[0]\n",
    "        self.y = coordinates[1]\n",
    "    \n",
    "    def __str__(self):\n",
    "        return 'x = {}, y = {}'.format(self.x, self.y)"
   ]
  },
  {
   "cell_type": "code",
   "execution_count": 14,
   "id": "47e40dab",
   "metadata": {},
   "outputs": [],
   "source": [
    "class Grid():\n",
    "    def __init__(self, height, width):\n",
    "        self.grid = [[Node((i,j)) for j in range(width)] for i in range(height)]\n",
    "        self.height = height\n",
    "        self.width = width\n",
    "        self.edges = {}\n",
    "        for i in tqdm(range(height)):\n",
    "            for j in range(width):\n",
    "                self.edges[(i,j),(i-1,j-1)] = 1\n",
    "                self.edges[(i,j),(i-1,j)] = 1\n",
    "                self.edges[(i,j),(i-1,j+1)] = 1\n",
    "                self.edges[(i,j),(i,j+1)] = 1\n",
    "                self.edges[(i,j),(i+1,j+1)] = 1\n",
    "                self.edges[(i,j),(i+1,j)] = 1\n",
    "                self.edges[(i,j),(i+1,j-1)] = 1\n",
    "                self.edges[(i,j),(i,j-1)] = 1"
   ]
  },
  {
   "cell_type": "code",
   "execution_count": 18,
   "id": "30f99c36",
   "metadata": {},
   "outputs": [
    {
     "name": "stderr",
     "output_type": "stream",
     "text": [
      "100%|███████████████████████████████████████████████████████████████████████████████████████████████████████████████████████████████████████████████████████████████████████████| 500/500 [00:00<00:00, 645.53it/s]\n",
      "100%|███████████████████████████████████████████████████████████████████████████████████████████████████████████████████████████████████████████████████████████████████████████| 500/500 [00:00<00:00, 647.46it/s]\n",
      "100%|███████████████████████████████████████████████████████████████████████████████████████████████████████████████████████████████████████████████████████████████████████████| 500/500 [00:00<00:00, 658.88it/s]\n",
      "100%|███████████████████████████████████████████████████████████████████████████████████████████████████████████████████████████████████████████████████████████████████████████| 500/500 [00:00<00:00, 652.38it/s]\n",
      "100%|███████████████████████████████████████████████████████████████████████████████████████████████████████████████████████████████████████████████████████████████████████████| 500/500 [00:00<00:00, 663.03it/s]\n",
      "100%|███████████████████████████████████████████████████████████████████████████████████████████████████████████████████████████████████████████████████████████████████████████| 500/500 [00:00<00:00, 642.17it/s]\n",
      "100%|███████████████████████████████████████████████████████████████████████████████████████████████████████████████████████████████████████████████████████████████████████████| 500/500 [00:00<00:00, 655.75it/s]\n",
      "100%|███████████████████████████████████████████████████████████████████████████████████████████████████████████████████████████████████████████████████████████████████████████| 500/500 [00:00<00:00, 645.50it/s]"
     ]
    },
    {
     "name": "stdout",
     "output_type": "stream",
     "text": [
      "834 ms ± 8.66 ms per loop (mean ± std. dev. of 7 runs, 1 loop each)\n"
     ]
    },
    {
     "name": "stderr",
     "output_type": "stream",
     "text": [
      "\n"
     ]
    }
   ],
   "source": [
    "%%timeit\n",
    "test2 = Grid(500,500)"
   ]
  },
  {
   "cell_type": "code",
   "execution_count": 19,
   "id": "8c49424c",
   "metadata": {},
   "outputs": [
    {
     "name": "stdout",
     "output_type": "stream",
     "text": [
      "(0, 0) 2\n",
      "(1, 0) 2\n",
      "(0, 1) 2\n"
     ]
    }
   ],
   "source": [
    "d = dict()\n",
    "d[((0,0),(0,1))] = 2 \n",
    "d[((1,0),(0,1))] = 2 \n",
    "d[((0,1),(0,1))] = 2 \n",
    "for i in d:\n",
    "    print(i[0], d[i])"
   ]
  },
  {
   "cell_type": "code",
   "execution_count": 254,
   "id": "9117763e",
   "metadata": {},
   "outputs": [
    {
     "name": "stdout",
     "output_type": "stream",
     "text": [
      "D <-- E\n",
      "E <-- A\n",
      "{'A': None, 'B': 'A', 'E': 'A', 'C': 'B', 'D': 'E'}\n"
     ]
    }
   ],
   "source": [
    "from collections import deque\n",
    "\n",
    "gr = {'A': ['B', 'E'],\n",
    "     'B': ['C'],\n",
    "     'C': ['D'],\n",
    "     'D': [],\n",
    "     'E': ['D']}\n",
    "\n",
    "# gr = {i: [i+1] for i in range(100)}\n",
    "\n",
    "\n",
    "def bfs(graph, start, finish):\n",
    "    queue = deque([start])\n",
    "    visited = {start: None}\n",
    "\n",
    "    while queue:\n",
    "        cur_node = queue.popleft()\n",
    "        if cur_node == finish:\n",
    "            break\n",
    "        next_nodes = graph[cur_node]\n",
    "        for next_node in next_nodes:\n",
    "            if next_node not in visited:\n",
    "                queue.append(next_node)\n",
    "                visited[next_node] = cur_node\n",
    "    return visited\n",
    "\n",
    "\n",
    "s = 'A'\n",
    "g = 'D'\n",
    "\n",
    "visited = bfs(gr, s, g)\n",
    "\n",
    "key = True\n",
    "while key:\n",
    "    if g != s:\n",
    "        print(g +  ' <-- ' + visited[g])\n",
    "        g = visited[g]\n",
    "    else:\n",
    "        key = False\n",
    "\n",
    "print(visited)"
   ]
  },
  {
   "cell_type": "code",
   "execution_count": 182,
   "id": "8226efcf",
   "metadata": {},
   "outputs": [
    {
     "name": "stdout",
     "output_type": "stream",
     "text": [
      "B\n",
      "E\n",
      "C\n",
      "D\n"
     ]
    },
    {
     "data": {
      "text/plain": [
       "{'A': None, 'B': 'A', 'E': 'A', 'C': 'B', 'D': 'C'}"
      ]
     },
     "execution_count": 182,
     "metadata": {},
     "output_type": "execute_result"
    }
   ],
   "source": [
    "from heapq import *\n",
    "gr = {'A':[(1, 'B'), (2, 'E')],\n",
    "      'B':[(1, 'C')],\n",
    "      'C':[(1, 'D')],\n",
    "      'D':[],\n",
    "      'E':[(2, 'D')]}\n",
    "\n",
    "def dijkstra(graph, start, finish):\n",
    "    queue = []\n",
    "    heappush(queue, (0, start))\n",
    "    cost_visited = {start: 0}\n",
    "    visited = {start: None}\n",
    "    \n",
    "    while queue:\n",
    "        cur_cost, cur_node = heappop(queue)\n",
    "        if cur_node == finish:\n",
    "            break\n",
    "            \n",
    "        next_nodes = graph[cur_node]\n",
    "        for next_node in next_nodes:\n",
    "            neigh_cost, neigh_node = next_node\n",
    "            new_cost =cost_visited[cur_node] + neigh_cost\n",
    "            \n",
    "            if neigh_node not in cost_visited or new_cost < cost_visited[neigh_node]:\n",
    "                print(neigh_node)\n",
    "                heappush(queue, (new_cost, neigh_node))\n",
    "                cost_visited[neigh_node] = new_cost\n",
    "                visited[neigh_node] = cur_node\n",
    "    return visited\n",
    "\n",
    "res = dijkstra(gr, 'A', 'D')\n",
    "res"
   ]
  },
  {
   "cell_type": "code",
   "execution_count": 242,
   "id": "11909196",
   "metadata": {},
   "outputs": [
    {
     "name": "stdout",
     "output_type": "stream",
     "text": [
      "['A', 'B', 'C']\n"
     ]
    }
   ],
   "source": [
    "def recover_path(vis, start, goal, path = None): \n",
    "    '''\n",
    "    Важно понимать, что это восстановление рекурсивное\n",
    "    '''\n",
    "    if path == None:\n",
    "        path = []\n",
    "    if start == goal:\n",
    "        return path[::-1]\n",
    "#         return ' --> '.join(path[::-1])\n",
    "    else:\n",
    "        path.append(vis[goal])\n",
    "        return recover_path(vis, start, vis[goal], path)\n",
    "result = recover_path(res, 'A', 'D')\n",
    "print(result)"
   ]
  },
  {
   "cell_type": "code",
   "execution_count": 243,
   "id": "f97ba720",
   "metadata": {},
   "outputs": [],
   "source": [
    "def heuristic(a, b):\n",
    "    return 10000\n",
    "#     return abs(a[0] - b[0]) + abs(a[1] - b[1])"
   ]
  },
  {
   "cell_type": "code",
   "execution_count": 244,
   "id": "b9512bba",
   "metadata": {},
   "outputs": [
    {
     "name": "stdout",
     "output_type": "stream",
     "text": [
      "['A', 'B', 'C']\n"
     ]
    }
   ],
   "source": [
    "def Astar(graph, start, finish):\n",
    "    queue = []\n",
    "    heappush(queue, (0, start))\n",
    "    cost_visited = {start: 0}\n",
    "    visited = {start: None}\n",
    "    \n",
    "    while queue:\n",
    "        cur_cost, cur_node = heappop(queue)\n",
    "        if cur_node == finish:\n",
    "            break\n",
    "            \n",
    "        next_nodes = graph[cur_node]\n",
    "        for next_node in next_nodes:\n",
    "            neigh_cost, neigh_node = next_node\n",
    "            new_cost =cost_visited[cur_node] + neigh_cost\n",
    "            \n",
    "            if neigh_node not in cost_visited or new_cost < cost_visited[neigh_node]:\n",
    "                priority = new_cost + heuristic(neigh_node, finish)\n",
    "                heappush(queue, (priority, neigh_node))\n",
    "                cost_visited[neigh_node] = new_cost\n",
    "                visited[neigh_node] = cur_node\n",
    "    return visited\n",
    "\n",
    "res = Astar(gr, 'A', 'D')\n",
    "result = recover_path(res, 'A', 'D')\n",
    "print(result)"
   ]
  },
  {
   "cell_type": "code",
   "execution_count": 252,
   "id": "d0f8495a",
   "metadata": {},
   "outputs": [],
   "source": [
    "graph = {}\n",
    "n = 15\n",
    "m = 80\n",
    "for i in range(n):\n",
    "    for j in range(m):\n",
    "        if i == n-1:\n",
    "            graph[(i,j)] = [(1, (i, j+1))]\n",
    "        elif j == m-1:\n",
    "            graph[(i,j)] = [(1,(i+1,j))]\n",
    "        else:\n",
    "            graph[(i,j)] = [(1,(i+1,j)), (1, (i, j+1)), (2, (i+1, j+1))]\n",
    "# print(graph.values())\n",
    "\n",
    "start = (5,3)\n",
    "goal = (10,65)\n",
    "\n",
    "vis = Astar(graph, start, goal)\n",
    "result = recover_path(vis, start, goal)"
   ]
  },
  {
   "cell_type": "code",
   "execution_count": 253,
   "id": "5621f27c",
   "metadata": {},
   "outputs": [
    {
     "name": "stdout",
     "output_type": "stream",
     "text": [
      "................................................................................\n",
      "................................................................................\n",
      "................................................................................\n",
      "................................................................................\n",
      "................................................................................\n",
      "...S#########################################################...................\n",
      ".............................................................#..................\n",
      "..............................................................#.................\n",
      "...............................................................#................\n",
      "................................................................#...............\n",
      ".................................................................F..............\n",
      "................................................................................\n",
      "................................................................................\n",
      "................................................................................\n",
      "................................................................................\n"
     ]
    }
   ],
   "source": [
    "for i in range(n):\n",
    "    for j in range(m):\n",
    "        if i == start[0] and j == start[1]:\n",
    "            print('S', end='')\n",
    "        elif (i,j) in result:\n",
    "            print('#', end='')\n",
    "        elif i == goal[0] and j == goal[1]:\n",
    "            print('F', end='')\n",
    "        else:\n",
    "            print('.', end='')\n",
    "    print('\\n', end='')"
   ]
  }
 ],
 "metadata": {
  "kernelspec": {
   "display_name": "Python 3 (ipykernel)",
   "language": "python",
   "name": "python3"
  },
  "language_info": {
   "codemirror_mode": {
    "name": "ipython",
    "version": 3
   },
   "file_extension": ".py",
   "mimetype": "text/x-python",
   "name": "python",
   "nbconvert_exporter": "python",
   "pygments_lexer": "ipython3",
   "version": "3.9.7"
  },
  "toc": {
   "base_numbering": 1,
   "nav_menu": {},
   "number_sections": true,
   "sideBar": true,
   "skip_h1_title": false,
   "title_cell": "Table of Contents",
   "title_sidebar": "Contents",
   "toc_cell": false,
   "toc_position": {},
   "toc_section_display": true,
   "toc_window_display": false
  }
 },
 "nbformat": 4,
 "nbformat_minor": 5
}
