{
 "cells": [
  {
   "cell_type": "markdown",
   "id": "d42e708f",
   "metadata": {},
   "source": [
    "# Библиотеки"
   ]
  },
  {
   "cell_type": "code",
   "execution_count": 1,
   "id": "88968a8d",
   "metadata": {},
   "outputs": [],
   "source": [
    "import os\n",
    "import sys\n",
    "import numpy as np\n",
    "import collections\n",
    "from tqdm import tqdm"
   ]
  },
  {
   "cell_type": "markdown",
   "id": "e1cfd911",
   "metadata": {},
   "source": [
    "# A*"
   ]
  },
  {
   "cell_type": "markdown",
   "id": "f25a0811",
   "metadata": {},
   "source": [
    "## Инициализация графа "
   ]
  },
  {
   "cell_type": "markdown",
   "id": "9d3fa47b",
   "metadata": {},
   "source": [
    "### Тест инфа с хабра [(Источник)](https://habr.com/ru/post/331220/)"
   ]
  },
  {
   "cell_type": "code",
   "execution_count": 2,
   "id": "d2f9540a",
   "metadata": {},
   "outputs": [],
   "source": [
    "class SimpleGraph():\n",
    "    def __init__(self):\n",
    "        self.edges = {}\n",
    "\n",
    "    def neighbors(self, id):\n",
    "        return self.edges[id]"
   ]
  },
  {
   "cell_type": "code",
   "execution_count": 3,
   "id": "41eabc1b",
   "metadata": {},
   "outputs": [],
   "source": [
    "example_graph = SimpleGraph()\n",
    "example_graph.edges = {\n",
    "    'A': ['B'],\n",
    "    'B': ['A', 'C', 'D'],\n",
    "    'C': ['A'],\n",
    "    'D': ['E', 'A'],\n",
    "    'E': ['B']\n",
    "}"
   ]
  },
  {
   "cell_type": "code",
   "execution_count": 4,
   "id": "8c2b4781",
   "metadata": {},
   "outputs": [],
   "source": [
    "class Queue:\n",
    "    def __init__(self):\n",
    "        self.elements = collections.deque()\n",
    "\n",
    "    def empty(self):\n",
    "        return len(self.elements) == 0\n",
    "\n",
    "    def put(self, x):\n",
    "        self.elements.append(x)\n",
    "\n",
    "    def get(self):\n",
    "        return self.elements.popleft()"
   ]
  },
  {
   "cell_type": "code",
   "execution_count": 5,
   "id": "a62aadd1",
   "metadata": {},
   "outputs": [],
   "source": [
    "from implementation import *"
   ]
  },
  {
   "cell_type": "code",
   "execution_count": 6,
   "id": "63449677",
   "metadata": {},
   "outputs": [],
   "source": [
    "def breadth_first_search_1(graph, start):\n",
    "    # печать того, что мы нашли\n",
    "    frontier = Queue()\n",
    "    frontier.put(start)\n",
    "    visited = {}\n",
    "    visited[start] = True\n",
    "    \n",
    "    while not frontier.empty():\n",
    "        current = frontier.get()\n",
    "        print(\"Visiting %r\" % current)\n",
    "        for next in graph.neighbors(current):\n",
    "            if next not in visited:\n",
    "                frontier.put(next)\n",
    "                visited[next] = True"
   ]
  },
  {
   "cell_type": "code",
   "execution_count": 7,
   "id": "1486290c",
   "metadata": {},
   "outputs": [
    {
     "name": "stdout",
     "output_type": "stream",
     "text": [
      "Visiting 'C'\n",
      "Visiting 'B'\n",
      "Visiting 'D'\n",
      "Visiting 'F'\n",
      "Visiting 'E'\n"
     ]
    }
   ],
   "source": [
    "breadth_first_search_1(example_graph, 'C')"
   ]
  },
  {
   "cell_type": "code",
   "execution_count": 8,
   "id": "28032664",
   "metadata": {},
   "outputs": [],
   "source": [
    "class SquareGrid:\n",
    "    def __init__(self, width, height):\n",
    "        self.width = width\n",
    "        self.height = height\n",
    "        self.walls = []\n",
    "    \n",
    "    def in_bounds(self, id):\n",
    "        (x, y) = id\n",
    "        return 0 <= x < self.width and 0 <= y < self.height\n",
    "    \n",
    "    def passable(self, id):\n",
    "        return id not in self.walls\n",
    "    \n",
    "    def neighbors(self, id):\n",
    "        (x, y) = id\n",
    "        results = [(x+1, y), (x, y-1), (x-1, y), (x, y+1)]\n",
    "        if (x + y) % 2 == 0: results.reverse() # ради эстетики\n",
    "        results = filter(self.in_bounds, results)\n",
    "        results = filter(self.passable, results)\n",
    "        return results"
   ]
  },
  {
   "cell_type": "code",
   "execution_count": 9,
   "id": "bb8c2f19",
   "metadata": {},
   "outputs": [
    {
     "name": "stdout",
     "output_type": "stream",
     "text": [
      "__________________________________________________________________________________________\n",
      " .  .  .  .  .  .  .  .  .  .  .  .  .  .  .  .  .  .  .  .  . ###### .  .  .  .  .  .  . \n",
      " .  .  .  .  .  .  .  .  .  .  .  .  .  .  .  .  .  .  .  .  . ###### .  .  .  .  .  .  . \n",
      " .  .  .  .  .  .  .  .  .  .  .  .  .  .  .  .  .  .  .  .  . ###### .  .  .  .  .  .  . \n",
      " .  .  . ###### .  .  .  .  .  .  .  .  .  .  .  .  .  .  .  . ###### .  .  .  .  .  .  . \n",
      " .  .  . ###### .  .  .  .  .  .  .  . ###### .  .  .  .  .  . ###### .  .  .  .  .  .  . \n",
      " .  .  . ###### .  .  .  .  .  .  .  . ###### .  .  .  .  .  . ############### .  .  .  . \n",
      " .  .  . ###### .  .  .  .  .  .  .  . ###### .  .  .  .  .  . ############### .  .  .  . \n",
      " .  .  . ###### .  .  .  .  .  .  .  . ###### .  .  .  .  .  .  .  .  .  .  .  .  .  .  . \n",
      " .  .  . ###### .  .  .  .  .  .  .  . ###### .  .  .  .  .  .  .  .  .  .  .  .  .  .  . \n",
      " .  .  . ###### .  .  .  .  .  .  .  . ###### .  .  .  .  .  .  .  .  .  .  .  .  .  .  . \n",
      " .  .  . ###### .  .  .  .  .  .  .  . ###### .  .  .  .  .  .  .  .  .  .  .  .  .  .  . \n",
      " .  .  . ###### .  .  .  .  .  .  .  . ###### .  .  .  .  .  .  .  .  .  .  .  .  .  .  . \n",
      " .  .  .  .  .  .  .  .  .  .  .  .  . ###### .  .  .  .  .  .  .  .  .  .  .  .  .  .  . \n",
      " .  .  .  .  .  .  .  .  .  .  .  .  . ###### .  .  .  .  .  .  .  .  .  .  .  .  .  .  . \n",
      " .  .  .  .  .  .  .  .  .  .  .  .  . ###### .  .  .  .  .  .  .  .  .  .  .  .  .  .  . \n",
      "~~~~~~~~~~~~~~~~~~~~~~~~~~~~~~~~~~~~~~~~~~~~~~~~~~~~~~~~~~~~~~~~~~~~~~~~~~~~~~~~~~~~~~~~~~\n"
     ]
    }
   ],
   "source": [
    "g = SquareGrid(30, 15)\n",
    "g.walls = DIAGRAM1_WALLS # список long, [(21, 0), (21, 2), ...]\n",
    "draw_grid(g)"
   ]
  },
  {
   "cell_type": "code",
   "execution_count": 10,
   "id": "ee621721",
   "metadata": {},
   "outputs": [
    {
     "name": "stdout",
     "output_type": "stream",
     "text": [
      "__________________________________________________________________________________________\n",
      " >  >  >  >  v  v  v  v  v  v  v  v  v  v  v  v  <  <  <  <  < ###### v  v  v  v  v  v  v \n",
      " >  >  >  >  >  v  v  v  v  v  v  v  v  v  v  <  <  <  <  <  < ###### v  v  v  v  v  v  v \n",
      " >  >  >  >  >  v  v  v  v  v  v  v  v  v  <  <  <  <  <  <  < ###### >  v  v  v  v  v  v \n",
      " >  >  ^ ###### v  v  v  v  v  v  v  v  <  <  <  <  <  <  <  < ###### >  >  v  v  v  v  v \n",
      " >  ^  ^ ###### >  v  v  v  v  v  v  < ###### ^  <  <  <  <  < ###### >  >  >  v  v  v  v \n",
      " ^  ^  ^ ###### >  >  v  v  v  v  <  < ###### ^  ^  <  <  <  < ############### v  v  v  < \n",
      " ^  ^  ^ ###### >  >  >  v  v  <  <  < ###### ^  ^  ^  <  <  < ############### v  v  <  < \n",
      " ^  ^  ^ ###### >  >  >  A  <  <  <  < ###### ^  ^  ^  ^  <  <  <  <  <  <  <  <  <  <  < \n",
      " v  v  v ###### >  >  ^  ^  ^  <  <  < ###### ^  ^  ^  ^  ^  <  <  <  <  <  <  <  <  <  < \n",
      " v  v  v ###### >  ^  ^  ^  ^  ^  <  < ###### ^  ^  ^  ^  ^  ^  <  <  <  <  <  <  <  <  < \n",
      " v  v  v ###### ^  ^  ^  ^  ^  ^  ^  < ###### ^  ^  ^  ^  ^  ^  ^  <  <  <  <  <  <  <  < \n",
      " >  v  v ###### ^  ^  ^  ^  ^  ^  ^  ^ ###### ^  ^  ^  ^  ^  ^  ^  ^  <  <  <  <  <  <  < \n",
      " >  >  >  >  >  ^  ^  ^  ^  ^  ^  ^  ^ ###### ^  ^  ^  ^  ^  ^  ^  ^  ^  <  <  <  <  <  < \n",
      " >  >  >  >  ^  ^  ^  ^  ^  ^  ^  ^  ^ ###### ^  ^  ^  ^  ^  ^  ^  ^  ^  ^  <  <  <  <  < \n",
      " >  >  >  ^  ^  ^  ^  ^  ^  ^  ^  ^  ^ ###### ^  ^  ^  ^  ^  ^  ^  ^  ^  ^  ^  <  <  <  < \n",
      "~~~~~~~~~~~~~~~~~~~~~~~~~~~~~~~~~~~~~~~~~~~~~~~~~~~~~~~~~~~~~~~~~~~~~~~~~~~~~~~~~~~~~~~~~~\n"
     ]
    }
   ],
   "source": [
    "def breadth_first_search_2(graph, start):\n",
    "    # возвращает \"came_from\"\n",
    "    frontier = Queue()\n",
    "    frontier.put(start)\n",
    "    came_from = {}\n",
    "    came_from[start] = None\n",
    "    \n",
    "    while not frontier.empty():\n",
    "        current = frontier.get()\n",
    "        for next in graph.neighbors(current):\n",
    "            if next not in came_from:\n",
    "                frontier.put(next)\n",
    "                came_from[next] = current\n",
    "    \n",
    "    return came_from\n",
    "\n",
    "g = SquareGrid(30, 15)\n",
    "g.walls = DIAGRAM1_WALLS\n",
    "\n",
    "parents = breadth_first_search_2(g, (8, 7))\n",
    "draw_grid(g, width=2, point_to=parents, start=(8, 7))"
   ]
  },
  {
   "cell_type": "code",
   "execution_count": 11,
   "id": "22018ada",
   "metadata": {},
   "outputs": [
    {
     "name": "stdout",
     "output_type": "stream",
     "text": [
      "__________________________________________________________________________________________\n",
      " .  >  >  >  v  v  v  v  v  v  v  v  v  v  v  v  <  .  .  .  . ###### .  .  .  .  .  .  . \n",
      " >  >  >  >  >  v  v  v  v  v  v  v  v  v  v  <  <  <  .  .  . ###### .  .  .  .  .  .  . \n",
      " >  >  >  >  >  v  v  v  v  v  v  v  v  v  <  <  <  Z  .  .  . ###### .  .  .  .  .  .  . \n",
      " >  >  ^ ###### v  v  v  v  v  v  v  v  <  <  <  <  <  <  .  . ###### .  .  .  .  .  .  . \n",
      " .  ^  ^ ###### >  v  v  v  v  v  v  < ###### ^  <  <  .  .  . ###### .  .  .  .  .  .  . \n",
      " .  .  ^ ###### >  >  v  v  v  v  <  < ###### ^  ^  .  .  .  . ############### .  .  .  . \n",
      " .  .  . ###### >  >  >  v  v  <  <  < ###### ^  .  .  .  .  . ############### .  .  .  . \n",
      " .  .  . ###### >  >  >  A  <  <  <  < ###### .  .  .  .  .  .  .  .  .  .  .  .  .  .  . \n",
      " .  .  . ###### >  >  ^  ^  ^  <  <  < ###### .  .  .  .  .  .  .  .  .  .  .  .  .  .  . \n",
      " .  .  v ###### >  ^  ^  ^  ^  ^  <  < ###### .  .  .  .  .  .  .  .  .  .  .  .  .  .  . \n",
      " .  v  v ###### ^  ^  ^  ^  ^  ^  ^  < ###### .  .  .  .  .  .  .  .  .  .  .  .  .  .  . \n",
      " >  v  v ###### ^  ^  ^  ^  ^  ^  ^  ^ ###### .  .  .  .  .  .  .  .  .  .  .  .  .  .  . \n",
      " >  >  >  >  >  ^  ^  ^  ^  ^  ^  ^  ^ ###### .  .  .  .  .  .  .  .  .  .  .  .  .  .  . \n",
      " >  >  >  >  ^  ^  ^  ^  ^  ^  ^  ^  ^ ###### .  .  .  .  .  .  .  .  .  .  .  .  .  .  . \n",
      " .  >  >  ^  ^  ^  ^  ^  ^  ^  ^  ^  ^ ###### .  .  .  .  .  .  .  .  .  .  .  .  .  .  . \n",
      "~~~~~~~~~~~~~~~~~~~~~~~~~~~~~~~~~~~~~~~~~~~~~~~~~~~~~~~~~~~~~~~~~~~~~~~~~~~~~~~~~~~~~~~~~~\n"
     ]
    }
   ],
   "source": [
    "def breadth_first_search_3(graph, start, goal):\n",
    "    frontier = Queue()\n",
    "    frontier.put(start)\n",
    "    came_from = {}\n",
    "    came_from[start] = None\n",
    "    \n",
    "    while not frontier.empty():\n",
    "        current = frontier.get()\n",
    "        \n",
    "        if current == goal:\n",
    "            break\n",
    "        \n",
    "        for next in graph.neighbors(current):\n",
    "            if next not in came_from:\n",
    "                frontier.put(next)\n",
    "                came_from[next] = current\n",
    "    \n",
    "    return came_from\n",
    "\n",
    "g = SquareGrid(30, 15)\n",
    "g.walls = DIAGRAM1_WALLS\n",
    "\n",
    "parents = breadth_first_search_3(g, (8, 7), (17, 2))\n",
    "draw_grid(g, width=2, point_to=parents, start=(8, 7), goal=(17, 2))"
   ]
  },
  {
   "cell_type": "markdown",
   "id": "e8d5a8a8",
   "metadata": {},
   "source": [
    "### Проба пера"
   ]
  },
  {
   "cell_type": "code",
   "execution_count": 12,
   "id": "e976ca45",
   "metadata": {},
   "outputs": [],
   "source": [
    "class Node():\n",
    "    '''\n",
    "    W[0] | W[1] | W[2]\n",
    "    ------------------\n",
    "    W[7] | Node | W[3]\n",
    "    ------------------\n",
    "    W[6] | W[5] | W[4]\n",
    "    '''\n",
    "\n",
    "    def __init__(self, coordinates, weights=(1, 1, 1, 1, 1, 1, 1, 1)):\n",
    "        self.x = coordinates[0]\n",
    "        self.y = coordinates[1]\n",
    "#         self.weights = weights\n",
    "#         if type(weights) == dict:\n",
    "#             self.tl = weights['top left']\n",
    "#             self.tm = weights['top middle']\n",
    "#             self.tr = weights['top right']\n",
    "#             self.rm = weights['right middle']\n",
    "#             self.br = weights['bottom right ']\n",
    "#             self.bm = weights['bottom middle']\n",
    "#             self.bl = weights['bottom left']\n",
    "#             self.lm = weights['left middle']\n",
    "#         elif type(weights) == tuple:\n",
    "#             self.tl = weights[0]\n",
    "#             self.tm = weights[1]\n",
    "#             self.tr = weights[2]\n",
    "#             self.rm = weights[3]\n",
    "#             self.br = weights[4]\n",
    "#             self.bm = weights[5]\n",
    "#             self.bl = weights[6]\n",
    "#             self.lm = weights[7]\n",
    "\n",
    "#         if self.x == 0:\n",
    "#             self.weights[0] = np.inf\n",
    "#             self.weights[1] = np.inf\n",
    "#             self.weights[2] = np.inf\n",
    "\n",
    "#         if self.y == 0:\n",
    "#             self.weights[0] = np.inf\n",
    "#             self.weights[7] = np.inf\n",
    "#             self.weights[6] = np.inf\n",
    "\n",
    "    def __str__(self):\n",
    "\n",
    "        weights1 = '{}|{}|{}\\n'.format(self.weights[0],\n",
    "                                     self.weights[1],\n",
    "                                     self.weights[2])\n",
    "        \n",
    "        weights2 = '{}|N|{}\\n'.format(self.weights[7],\n",
    "                                     self.weights[3])\n",
    "        \n",
    "        weights3 = '{}|{}|{}\\n'.format(self.weights[6],\n",
    "                                     self.weights[5],\n",
    "                                     self.weights[4])\n",
    "        weights = '-'*(max(len(weights1), len(weights2), len(weights3))) + '\\n'\n",
    "        \n",
    "        res_weights = weights1 + weights + weights2 + weights + weights3\n",
    "        coordinates = 'x = {}, y = {}'.format(self.x, self.y)\n",
    "\n",
    "        return res_weights + '\\n' + coordinates"
   ]
  },
  {
   "cell_type": "code",
   "execution_count": 13,
   "id": "a7e9c5bc",
   "metadata": {},
   "outputs": [],
   "source": [
    "class Node():\n",
    "    '''\n",
    "    W[0] | W[1] | W[2]\n",
    "    ------------------\n",
    "    W[7] | Node | W[3]\n",
    "    ------------------\n",
    "    W[6] | W[5] | W[4]\n",
    "    '''\n",
    "\n",
    "    def __init__(self, coordinates):\n",
    "        self.x = coordinates[0]\n",
    "        self.y = coordinates[1]\n",
    "    \n",
    "    def __str__(self):\n",
    "        return 'x = {}, y = {}'.format(self.x, self.y)"
   ]
  },
  {
   "cell_type": "code",
   "execution_count": 14,
   "id": "cfc8fdc0",
   "metadata": {},
   "outputs": [],
   "source": [
    "class Grid():\n",
    "    def __init__(self, height, width):\n",
    "        self.grid = [[Node((i,j)) for j in range(width)] for i in range(height)]\n",
    "        self.height = height\n",
    "        self.width = width\n",
    "        self.edges = {}\n",
    "        for i in tqdm(range(height)):\n",
    "            for j in range(width):\n",
    "                self.edges[(i,j),(i-1,j-1)] = 1\n",
    "                self.edges[(i,j),(i-1,j)] = 1\n",
    "                self.edges[(i,j),(i-1,j+1)] = 1\n",
    "                self.edges[(i,j),(i,j+1)] = 1\n",
    "                self.edges[(i,j),(i+1,j+1)] = 1\n",
    "                self.edges[(i,j),(i+1,j)] = 1\n",
    "                self.edges[(i,j),(i+1,j-1)] = 1\n",
    "                self.edges[(i,j),(i,j-1)] = 1"
   ]
  },
  {
   "cell_type": "code",
   "execution_count": 18,
   "id": "75115c0c",
   "metadata": {},
   "outputs": [
    {
     "name": "stderr",
     "output_type": "stream",
     "text": [
      "100%|███████████████████████████████████████████████████████████████████████████████████████████████████████████████████████████████████████████████████████████████████████████| 500/500 [00:00<00:00, 645.53it/s]\n",
      "100%|███████████████████████████████████████████████████████████████████████████████████████████████████████████████████████████████████████████████████████████████████████████| 500/500 [00:00<00:00, 647.46it/s]\n",
      "100%|███████████████████████████████████████████████████████████████████████████████████████████████████████████████████████████████████████████████████████████████████████████| 500/500 [00:00<00:00, 658.88it/s]\n",
      "100%|███████████████████████████████████████████████████████████████████████████████████████████████████████████████████████████████████████████████████████████████████████████| 500/500 [00:00<00:00, 652.38it/s]\n",
      "100%|███████████████████████████████████████████████████████████████████████████████████████████████████████████████████████████████████████████████████████████████████████████| 500/500 [00:00<00:00, 663.03it/s]\n",
      "100%|███████████████████████████████████████████████████████████████████████████████████████████████████████████████████████████████████████████████████████████████████████████| 500/500 [00:00<00:00, 642.17it/s]\n",
      "100%|███████████████████████████████████████████████████████████████████████████████████████████████████████████████████████████████████████████████████████████████████████████| 500/500 [00:00<00:00, 655.75it/s]\n",
      "100%|███████████████████████████████████████████████████████████████████████████████████████████████████████████████████████████████████████████████████████████████████████████| 500/500 [00:00<00:00, 645.50it/s]"
     ]
    },
    {
     "name": "stdout",
     "output_type": "stream",
     "text": [
      "834 ms ± 8.66 ms per loop (mean ± std. dev. of 7 runs, 1 loop each)\n"
     ]
    },
    {
     "name": "stderr",
     "output_type": "stream",
     "text": [
      "\n"
     ]
    }
   ],
   "source": [
    "%%timeit\n",
    "test2 = Grid(500,500)"
   ]
  },
  {
   "cell_type": "code",
   "execution_count": 19,
   "id": "2a0fdbbd",
   "metadata": {},
   "outputs": [
    {
     "name": "stdout",
     "output_type": "stream",
     "text": [
      "(0, 0) 2\n",
      "(1, 0) 2\n",
      "(0, 1) 2\n"
     ]
    }
   ],
   "source": [
    "d = dict()\n",
    "d[((0,0),(0,1))] = 2 \n",
    "d[((1,0),(0,1))] = 2 \n",
    "d[((0,1),(0,1))] = 2 \n",
    "for i in d:\n",
    "    print(i[0], d[i])"
   ]
  },
  {
   "cell_type": "code",
   "execution_count": 100,
   "id": "f1d7183b",
   "metadata": {},
   "outputs": [
    {
     "name": "stdout",
     "output_type": "stream",
     "text": [
      "30 <-- 29\n",
      "29 <-- 28\n",
      "28 <-- 27\n",
      "27 <-- 26\n",
      "26 <-- 25\n",
      "25 <-- 24\n",
      "24 <-- 23\n",
      "23 <-- 22\n",
      "22 <-- 21\n",
      "21 <-- 20\n",
      "20 <-- 19\n",
      "19 <-- 18\n",
      "18 <-- 17\n",
      "17 <-- 16\n",
      "16 <-- 15\n",
      "15 <-- 14\n",
      "14 <-- 13\n",
      "13 <-- 12\n",
      "12 <-- 11\n",
      "11 <-- 10\n",
      "10 <-- 9\n",
      "9 <-- 8\n",
      "8 <-- 7\n",
      "7 <-- 6\n",
      "6 <-- 5\n",
      "5 <-- 4\n",
      "4 <-- 3\n",
      "3 <-- 2\n",
      "2 <-- 1\n",
      "1 <-- 0\n",
      "{0: None, 1: 0, 2: 1, 3: 2, 4: 3, 5: 4, 6: 5, 7: 6, 8: 7, 9: 8, 10: 9, 11: 10, 12: 11, 13: 12, 14: 13, 15: 14, 16: 15, 17: 16, 18: 17, 19: 18, 20: 19, 21: 20, 22: 21, 23: 22, 24: 23, 25: 24, 26: 25, 27: 26, 28: 27, 29: 28, 30: 29}\n"
     ]
    }
   ],
   "source": [
    "from collections import deque\n",
    "\n",
    "gr = {0: [1, 4],\n",
    "     1: [2],\n",
    "     2: [3],\n",
    "     3: [],\n",
    "     4: [3]}\n",
    "\n",
    "gr = {i: [i+1] for i in range(100)}\n",
    "\n",
    "\n",
    "def bfs(graph, start, finish):\n",
    "    queue = deque([start])\n",
    "    visited = {start: None}\n",
    "\n",
    "    while queue:\n",
    "        cur_node = queue.popleft()\n",
    "        if cur_node == finish:\n",
    "            break\n",
    "        next_nodes = graph[cur_node]\n",
    "        for next_node in next_nodes:\n",
    "            if next_node not in visited:\n",
    "                queue.append(next_node)\n",
    "                visited[next_node] = cur_node\n",
    "    return visited\n",
    "\n",
    "\n",
    "s = 0\n",
    "g = 30\n",
    "\n",
    "visited = bfs(gr, s, g)\n",
    "\n",
    "key = True\n",
    "while key:\n",
    "    if g != s:\n",
    "        print(g, '<--', visited[g])\n",
    "        g = visited[g]\n",
    "    else:\n",
    "        key = False\n",
    "\n",
    "print(visited)"
   ]
  },
  {
   "cell_type": "code",
   "execution_count": 48,
   "id": "d7738ecd",
   "metadata": {},
   "outputs": [
    {
     "name": "stdout",
     "output_type": "stream",
     "text": [
      "False\n"
     ]
    }
   ],
   "source": [
    "s = set()\n",
    "s.add(1)\n",
    "s.add(2)\n",
    "print(3 in s)"
   ]
  }
 ],
 "metadata": {
  "kernelspec": {
   "display_name": "Python 3 (ipykernel)",
   "language": "python",
   "name": "python3"
  },
  "language_info": {
   "codemirror_mode": {
    "name": "ipython",
    "version": 3
   },
   "file_extension": ".py",
   "mimetype": "text/x-python",
   "name": "python",
   "nbconvert_exporter": "python",
   "pygments_lexer": "ipython3",
   "version": "3.9.7"
  },
  "toc": {
   "base_numbering": 1,
   "nav_menu": {},
   "number_sections": true,
   "sideBar": true,
   "skip_h1_title": false,
   "title_cell": "Table of Contents",
   "title_sidebar": "Contents",
   "toc_cell": false,
   "toc_position": {},
   "toc_section_display": true,
   "toc_window_display": false
  }
 },
 "nbformat": 4,
 "nbformat_minor": 5
}
