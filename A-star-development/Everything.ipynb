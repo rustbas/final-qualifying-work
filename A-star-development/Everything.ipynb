{
 "cells": [
  {
   "cell_type": "markdown",
   "id": "3c5d2f40",
   "metadata": {},
   "source": [
    "# Библиотеки"
   ]
  },
  {
   "cell_type": "code",
   "execution_count": 1,
   "id": "f6567757",
   "metadata": {
    "ExecuteTime": {
     "end_time": "2021-11-18T12:12:58.699854Z",
     "start_time": "2021-11-18T12:12:58.557597Z"
    }
   },
   "outputs": [],
   "source": [
    "import os\n",
    "import sys\n",
    "import numpy as np\n",
    "import collections\n",
    "from tqdm import tqdm\n",
    "from random import randint"
   ]
  },
  {
   "cell_type": "markdown",
   "id": "96b3ac5c",
   "metadata": {},
   "source": [
    "# A*"
   ]
  },
  {
   "cell_type": "markdown",
   "id": "faac538a",
   "metadata": {},
   "source": [
    "## Проба пера"
   ]
  },
  {
   "cell_type": "code",
   "execution_count": 2,
   "id": "dc49f793",
   "metadata": {
    "ExecuteTime": {
     "end_time": "2021-11-18T12:12:58.706574Z",
     "start_time": "2021-11-18T12:12:58.701101Z"
    }
   },
   "outputs": [
    {
     "name": "stdout",
     "output_type": "stream",
     "text": [
      "D <-- E\n",
      "E <-- A\n",
      "{'A': None, 'B': 'A', 'E': 'A', 'C': 'B', 'D': 'E'}\n"
     ]
    }
   ],
   "source": [
    "from collections import deque\n",
    "\n",
    "gr = {'A': ['B', 'E'],\n",
    "      'B': ['C'],\n",
    "      'C': ['D'],\n",
    "      'D': [],\n",
    "      'E': ['D']}\n",
    "\n",
    "# gr = {i: [i+1] for i in range(100)}\n",
    "\n",
    "\n",
    "def bfs(graph, start, finish):\n",
    "    queue = deque([start])\n",
    "    visited = {start: None}\n",
    "\n",
    "    while queue:\n",
    "        cur_node = queue.popleft()\n",
    "        if cur_node == finish:\n",
    "            break\n",
    "        next_nodes = graph[cur_node]\n",
    "        for next_node in next_nodes:\n",
    "            if next_node not in visited:\n",
    "                queue.append(next_node)\n",
    "                visited[next_node] = cur_node\n",
    "    return visited\n",
    "\n",
    "\n",
    "s = 'A'\n",
    "g = 'D'\n",
    "\n",
    "visited = bfs(gr, s, g)\n",
    "\n",
    "key = True\n",
    "while key:\n",
    "    if g != s:\n",
    "        print(g + ' <-- ' + visited[g])\n",
    "        g = visited[g]\n",
    "    else:\n",
    "        key = False\n",
    "\n",
    "print(visited)"
   ]
  },
  {
   "cell_type": "code",
   "execution_count": 3,
   "id": "40d3e6bc",
   "metadata": {
    "ExecuteTime": {
     "end_time": "2021-11-18T12:12:58.719586Z",
     "start_time": "2021-11-18T12:12:58.707878Z"
    }
   },
   "outputs": [
    {
     "name": "stdout",
     "output_type": "stream",
     "text": [
      "B\n",
      "E\n",
      "C\n",
      "D\n"
     ]
    },
    {
     "data": {
      "text/plain": [
       "{'A': None, 'B': 'A', 'E': 'A', 'C': 'B', 'D': 'C'}"
      ]
     },
     "execution_count": 3,
     "metadata": {},
     "output_type": "execute_result"
    }
   ],
   "source": [
    "from heapq import *\n",
    "gr = {'A': [(1, 'B'), (2, 'E')],\n",
    "      'B': [(1, 'C')],\n",
    "      'C': [(1, 'D')],\n",
    "      'D': [],\n",
    "      'E': [(2, 'D')]}\n",
    "\n",
    "\n",
    "def dijkstra(graph, start, finish):\n",
    "    queue = []\n",
    "    heappush(queue, (0, start))\n",
    "    cost_visited = {start: 0}\n",
    "    visited = {start: None}\n",
    "\n",
    "    while queue:\n",
    "        cur_cost, cur_node = heappop(queue)\n",
    "        if cur_node == finish:\n",
    "            break\n",
    "\n",
    "        next_nodes = graph[cur_node]\n",
    "        for next_node in next_nodes:\n",
    "            neigh_cost, neigh_node = next_node\n",
    "            new_cost = cost_visited[cur_node] + neigh_cost\n",
    "\n",
    "            if neigh_node not in cost_visited or new_cost < cost_visited[neigh_node]:\n",
    "                print(neigh_node)\n",
    "                heappush(queue, (new_cost, neigh_node))\n",
    "                cost_visited[neigh_node] = new_cost\n",
    "                visited[neigh_node] = cur_node\n",
    "    return visited\n",
    "\n",
    "\n",
    "res = dijkstra(gr, 'A', 'D')\n",
    "res"
   ]
  },
  {
   "cell_type": "markdown",
   "id": "11a5d1fe",
   "metadata": {},
   "source": [
    "## Алгоритмы"
   ]
  },
  {
   "cell_type": "code",
   "execution_count": 4,
   "id": "73a07422",
   "metadata": {
    "ExecuteTime": {
     "end_time": "2021-11-18T12:12:58.724623Z",
     "start_time": "2021-11-18T12:12:58.721154Z"
    }
   },
   "outputs": [
    {
     "name": "stdout",
     "output_type": "stream",
     "text": [
      "['A', 'B', 'C']\n"
     ]
    }
   ],
   "source": [
    "def recover_path(vis, start, goal, path=None):\n",
    "    '''\n",
    "    Важно понимать, что это восстановление рекурсивное\n",
    "    '''\n",
    "    if path == None:\n",
    "        path = []\n",
    "    if start == goal:\n",
    "        return path[::-1]\n",
    "#         return ' --> '.join(path[::-1])\n",
    "    else:\n",
    "        path.append(vis[goal])\n",
    "        return recover_path(vis, start, vis[goal], path)\n",
    "\n",
    "\n",
    "result = recover_path(res, 'A', 'D')\n",
    "print(result)"
   ]
  },
  {
   "cell_type": "code",
   "execution_count": 5,
   "id": "2f644a33",
   "metadata": {
    "ExecuteTime": {
     "end_time": "2021-11-18T12:12:58.728052Z",
     "start_time": "2021-11-18T12:12:58.725933Z"
    }
   },
   "outputs": [],
   "source": [
    "def heuristic(a, b):\n",
    "    #     return 10000\n",
    "    return abs(a[0] - b[0]) + abs(a[1] - b[1])"
   ]
  },
  {
   "cell_type": "code",
   "execution_count": 6,
   "id": "e95eaad7",
   "metadata": {
    "ExecuteTime": {
     "end_time": "2021-11-18T12:12:58.776069Z",
     "start_time": "2021-11-18T12:12:58.729170Z"
    }
   },
   "outputs": [
    {
     "ename": "TypeError",
     "evalue": "unsupported operand type(s) for -: 'str' and 'str'",
     "output_type": "error",
     "traceback": [
      "\u001b[0;31m---------------------------------------------------------------------------\u001b[0m",
      "\u001b[0;31mTypeError\u001b[0m                                 Traceback (most recent call last)",
      "\u001b[0;32m/tmp/ipykernel_2904815/1047518540.py\u001b[0m in \u001b[0;36m<module>\u001b[0;34m\u001b[0m\n\u001b[1;32m     23\u001b[0m \u001b[0;34m\u001b[0m\u001b[0m\n\u001b[1;32m     24\u001b[0m \u001b[0;34m\u001b[0m\u001b[0m\n\u001b[0;32m---> 25\u001b[0;31m \u001b[0mres\u001b[0m \u001b[0;34m=\u001b[0m \u001b[0mAstar\u001b[0m\u001b[0;34m(\u001b[0m\u001b[0mgr\u001b[0m\u001b[0;34m,\u001b[0m \u001b[0;34m'A'\u001b[0m\u001b[0;34m,\u001b[0m \u001b[0;34m'D'\u001b[0m\u001b[0;34m)\u001b[0m\u001b[0;34m\u001b[0m\u001b[0;34m\u001b[0m\u001b[0m\n\u001b[0m\u001b[1;32m     26\u001b[0m \u001b[0mresult\u001b[0m \u001b[0;34m=\u001b[0m \u001b[0mrecover_path\u001b[0m\u001b[0;34m(\u001b[0m\u001b[0mres\u001b[0m\u001b[0;34m,\u001b[0m \u001b[0;34m'A'\u001b[0m\u001b[0;34m,\u001b[0m \u001b[0;34m'D'\u001b[0m\u001b[0;34m)\u001b[0m\u001b[0;34m\u001b[0m\u001b[0;34m\u001b[0m\u001b[0m\n\u001b[1;32m     27\u001b[0m \u001b[0mprint\u001b[0m\u001b[0;34m(\u001b[0m\u001b[0mresult\u001b[0m\u001b[0;34m)\u001b[0m\u001b[0;34m\u001b[0m\u001b[0;34m\u001b[0m\u001b[0m\n",
      "\u001b[0;32m/tmp/ipykernel_2904815/1047518540.py\u001b[0m in \u001b[0;36mAstar\u001b[0;34m(graph, start, finish)\u001b[0m\n\u001b[1;32m     16\u001b[0m \u001b[0;34m\u001b[0m\u001b[0m\n\u001b[1;32m     17\u001b[0m             \u001b[0;32mif\u001b[0m \u001b[0mneigh_node\u001b[0m \u001b[0;32mnot\u001b[0m \u001b[0;32min\u001b[0m \u001b[0mcost_visited\u001b[0m \u001b[0;32mor\u001b[0m \u001b[0mnew_cost\u001b[0m \u001b[0;34m<\u001b[0m \u001b[0mcost_visited\u001b[0m\u001b[0;34m[\u001b[0m\u001b[0mneigh_node\u001b[0m\u001b[0;34m]\u001b[0m\u001b[0;34m:\u001b[0m\u001b[0;34m\u001b[0m\u001b[0;34m\u001b[0m\u001b[0m\n\u001b[0;32m---> 18\u001b[0;31m                 \u001b[0mpriority\u001b[0m \u001b[0;34m=\u001b[0m \u001b[0mnew_cost\u001b[0m \u001b[0;34m+\u001b[0m \u001b[0mheuristic\u001b[0m\u001b[0;34m(\u001b[0m\u001b[0mneigh_node\u001b[0m\u001b[0;34m,\u001b[0m \u001b[0mfinish\u001b[0m\u001b[0;34m)\u001b[0m\u001b[0;34m\u001b[0m\u001b[0;34m\u001b[0m\u001b[0m\n\u001b[0m\u001b[1;32m     19\u001b[0m                 \u001b[0mheappush\u001b[0m\u001b[0;34m(\u001b[0m\u001b[0mqueue\u001b[0m\u001b[0;34m,\u001b[0m \u001b[0;34m(\u001b[0m\u001b[0mpriority\u001b[0m\u001b[0;34m,\u001b[0m \u001b[0mneigh_node\u001b[0m\u001b[0;34m)\u001b[0m\u001b[0;34m)\u001b[0m\u001b[0;34m\u001b[0m\u001b[0;34m\u001b[0m\u001b[0m\n\u001b[1;32m     20\u001b[0m                 \u001b[0mcost_visited\u001b[0m\u001b[0;34m[\u001b[0m\u001b[0mneigh_node\u001b[0m\u001b[0;34m]\u001b[0m \u001b[0;34m=\u001b[0m \u001b[0mnew_cost\u001b[0m\u001b[0;34m\u001b[0m\u001b[0;34m\u001b[0m\u001b[0m\n",
      "\u001b[0;32m/tmp/ipykernel_2904815/3523348378.py\u001b[0m in \u001b[0;36mheuristic\u001b[0;34m(a, b)\u001b[0m\n\u001b[1;32m      1\u001b[0m \u001b[0;32mdef\u001b[0m \u001b[0mheuristic\u001b[0m\u001b[0;34m(\u001b[0m\u001b[0ma\u001b[0m\u001b[0;34m,\u001b[0m \u001b[0mb\u001b[0m\u001b[0;34m)\u001b[0m\u001b[0;34m:\u001b[0m\u001b[0;34m\u001b[0m\u001b[0;34m\u001b[0m\u001b[0m\n\u001b[1;32m      2\u001b[0m     \u001b[0;31m#     return 10000\u001b[0m\u001b[0;34m\u001b[0m\u001b[0;34m\u001b[0m\u001b[0m\n\u001b[0;32m----> 3\u001b[0;31m     \u001b[0;32mreturn\u001b[0m \u001b[0mabs\u001b[0m\u001b[0;34m(\u001b[0m\u001b[0ma\u001b[0m\u001b[0;34m[\u001b[0m\u001b[0;36m0\u001b[0m\u001b[0;34m]\u001b[0m \u001b[0;34m-\u001b[0m \u001b[0mb\u001b[0m\u001b[0;34m[\u001b[0m\u001b[0;36m0\u001b[0m\u001b[0;34m]\u001b[0m\u001b[0;34m)\u001b[0m \u001b[0;34m+\u001b[0m \u001b[0mabs\u001b[0m\u001b[0;34m(\u001b[0m\u001b[0ma\u001b[0m\u001b[0;34m[\u001b[0m\u001b[0;36m1\u001b[0m\u001b[0;34m]\u001b[0m \u001b[0;34m-\u001b[0m \u001b[0mb\u001b[0m\u001b[0;34m[\u001b[0m\u001b[0;36m1\u001b[0m\u001b[0;34m]\u001b[0m\u001b[0;34m)\u001b[0m\u001b[0;34m\u001b[0m\u001b[0;34m\u001b[0m\u001b[0m\n\u001b[0m",
      "\u001b[0;31mTypeError\u001b[0m: unsupported operand type(s) for -: 'str' and 'str'"
     ]
    }
   ],
   "source": [
    "def Astar(graph, start, finish):\n",
    "    queue = []\n",
    "    heappush(queue, (0, start))\n",
    "    cost_visited = {start: 0}\n",
    "    visited = {start: None}\n",
    "\n",
    "    while queue:\n",
    "        cur_cost, cur_node = heappop(queue)\n",
    "        if cur_node == finish:\n",
    "            break\n",
    "\n",
    "        next_nodes = graph[cur_node]\n",
    "        for next_node in next_nodes:\n",
    "            neigh_cost, neigh_node = next_node\n",
    "            new_cost = cost_visited[cur_node] + neigh_cost\n",
    "\n",
    "            if neigh_node not in cost_visited or new_cost < cost_visited[neigh_node]:\n",
    "                priority = new_cost + heuristic(neigh_node, finish)\n",
    "                heappush(queue, (priority, neigh_node))\n",
    "                cost_visited[neigh_node] = new_cost\n",
    "                visited[neigh_node] = cur_node\n",
    "    return visited\n",
    "\n",
    "\n",
    "res = Astar(gr, 'A', 'D')\n",
    "result = recover_path(res, 'A', 'D')\n",
    "print(result)"
   ]
  },
  {
   "cell_type": "code",
   "execution_count": null,
   "id": "274173c8",
   "metadata": {
    "ExecuteTime": {
     "end_time": "2021-11-18T12:12:58.777107Z",
     "start_time": "2021-11-18T12:12:58.777096Z"
    }
   },
   "outputs": [],
   "source": [
    "graph = {}\n",
    "n = 15\n",
    "m = 80\n",
    "for i in range(n):\n",
    "    for j in range(m):\n",
    "        if i == n-1:\n",
    "            graph[(i, j)] = [(1, (i, j+1))]\n",
    "        elif j == m-1:\n",
    "            graph[(i, j)] = [(1, (i+1, j))]\n",
    "        else:\n",
    "            graph[(i, j)] = [(1, (i+1, j)), (1, (i, j+1)), (2, (i+1, j+1))]\n",
    "# print(graph.values())\n",
    "\n",
    "start = (5, 3)\n",
    "goal = (10, 65)\n",
    "\n",
    "vis = Astar(graph, start, goal)\n",
    "result = recover_path(vis, start, goal)"
   ]
  },
  {
   "cell_type": "code",
   "execution_count": null,
   "id": "c5456bf6",
   "metadata": {
    "ExecuteTime": {
     "end_time": "2021-11-18T12:12:58.778193Z",
     "start_time": "2021-11-18T12:12:58.778178Z"
    }
   },
   "outputs": [],
   "source": [
    "for i in range(n):\n",
    "    for j in range(m):\n",
    "        if i == start[0] and j == start[1]:\n",
    "            print('S', end='')\n",
    "        elif (i, j) in result:\n",
    "            print('#', end='')\n",
    "        elif i == goal[0] and j == goal[1]:\n",
    "            print('F', end='')\n",
    "        else:\n",
    "            print('.', end='')\n",
    "    print('\\n', end='')"
   ]
  },
  {
   "cell_type": "markdown",
   "id": "93173eaa",
   "metadata": {},
   "source": [
    "## Финальное оформление"
   ]
  },
  {
   "cell_type": "markdown",
   "id": "523417f8",
   "metadata": {},
   "source": [
    "### Генерация графа\n",
    "\n",
    "**Задача**\n",
    "\n",
    "1. Сгенерировать квадратную сетку $N$ на $M$\n",
    "2. Сделать на ее основе граф с весами до соседних клеток равный $d$"
   ]
  },
  {
   "cell_type": "code",
   "execution_count": 7,
   "id": "a585eb43",
   "metadata": {
    "ExecuteTime": {
     "end_time": "2021-11-18T12:12:58.798262Z",
     "start_time": "2021-11-18T12:12:58.789705Z"
    },
    "scrolled": false
   },
   "outputs": [
    {
     "name": "stdout",
     "output_type": "stream",
     "text": [
      "3\n",
      "5\n",
      "3\n",
      "5\n",
      "8\n",
      "5\n",
      "3\n",
      "5\n",
      "3\n"
     ]
    }
   ],
   "source": [
    "N = 3\n",
    "M = 3\n",
    "\n",
    "d = 1\n",
    "\n",
    "graph = {}\n",
    "forbidden = []\n",
    "\n",
    "for i in range(N):\n",
    "    for j in range(M):\n",
    "        graph[(i, j)] = []\n",
    "\n",
    "for i in range(N):\n",
    "    for j in range(M):\n",
    "        if (i, j) not in forbidden:\n",
    "            if i-1 != -1 and j-1 != -1:\n",
    "                graph[(i, j)].append((d, (i-1, j-1)))\n",
    "            if i-1 != -1 and 0 <= j < M:\n",
    "                graph[(i, j)].append((d, (i-1, j)))\n",
    "            if i-1 != -1 and j+1 != M:\n",
    "                graph[(i, j)].append((d, (i-1, j+1)))\n",
    "            if 0 <= i <= N and j+1 != M:\n",
    "                graph[(i, j)].append((d, (i, j+1)))\n",
    "            if i+1 != N and j+1 != M:\n",
    "                graph[(i, j)].append((d, (i+1, j+1)))\n",
    "            if i+1 != N and 0 <= j < M:\n",
    "                graph[(i, j)].append((d, (i+1, j)))\n",
    "            if i+1 != N and j-1 != -1:\n",
    "                graph[(i, j)].append((d, (i+1, j-1)))\n",
    "            if 0 <= i < N and j-1 != -1:\n",
    "                graph[(i, j)].append((d, (i, j-1)))\n",
    "\n",
    "\n",
    "#         if i != N-1 and i != 0 and j != M-1 and j != 0:\n",
    "#             graph[(i, j)] = [(d, (i-1, j-1)), (d, (i-1, j)), (d, (i-1, j+1)), (d, (i, j+1)),\n",
    "#                              (d, (i+1, j+1)), (d, (i+1, j)), (d, (i+1, j-1)), (d, (i, j-1))]\n",
    "#         elif i == 0 and j == 0:\n",
    "#             graph[(i,j)] = [(d, (i, j+1)), (d, (i+1,j+1)), (d, (i+1, j))]\n",
    "#         elif i == 0 and j != 0:\n",
    "#             graph[(i,j)] = [(d, (i, j+1)), (d, (i+1,j+1)), (d, (i+1, j)),\n",
    "#                             (d, (i+1, j-1)), (d, (i, j-1))]\n",
    "\n",
    "for key in graph:\n",
    "    print(len(graph[key]))"
   ]
  },
  {
   "cell_type": "code",
   "execution_count": 8,
   "id": "0f52dd2e",
   "metadata": {
    "ExecuteTime": {
     "end_time": "2021-11-18T12:12:58.807500Z",
     "start_time": "2021-11-18T12:12:58.799639Z"
    }
   },
   "outputs": [],
   "source": [
    "def graph_gen(N=3, M=3, d=1, forbidden=[]):\n",
    "    graph = {}\n",
    "\n",
    "    for i in range(N):\n",
    "        for j in range(M):\n",
    "            graph[(i, j)] = []\n",
    "\n",
    "    for i in range(N):\n",
    "        for j in range(M):\n",
    "            if (i, j) not in forbidden:\n",
    "                if i-1 != -1 and j-1 != -1 and (i-1, j-1) not in forbidden:\n",
    "                    graph[(i, j)].append((d*1.41, (i-1, j-1)))  # 1 - ая ячейка\n",
    "                if i-1 != -1 and 0 <= j < M and (i-1, j) not in forbidden:\n",
    "                    graph[(i, j)].append((d, (i-1, j)))        # 2 - ая ячейка\n",
    "                if i-1 != -1 and j+1 != M and (i-1, j+1) not in forbidden:\n",
    "                    graph[(i, j)].append((d*1.41, (i-1, j+1)))  # 3 - ая ячейка\n",
    "                if 0 <= i <= N and j+1 != M and (i, j+1) not in forbidden:\n",
    "                    graph[(i, j)].append((d, (i, j+1)))        # 4 - ая ячейка\n",
    "                if i+1 != N and j+1 != M and (i+1, j+1) not in forbidden:\n",
    "                    graph[(i, j)].append((d*1.41, (i+1, j+1)))  # 5 - ая ячейка\n",
    "                if i+1 != N and 0 <= j < M and (i+1, j) not in forbidden:\n",
    "                    graph[(i, j)].append((d, (i+1, j)))        # 6 - ая ячейка\n",
    "                if i+1 != N and j-1 != -1 and (i+1, j-1) not in forbidden:\n",
    "                    graph[(i, j)].append((d*1.41, (i+1, j-1)))  # 7 - ая ячейка\n",
    "                if 0 <= i < N and j-1 != -1 and (i, j-1) not in forbidden:\n",
    "                    graph[(i, j)].append((d, (i, j-1)))        # 8 - ая ячейка\n",
    "    return graph"
   ]
  },
  {
   "cell_type": "markdown",
   "id": "85784d33",
   "metadata": {},
   "source": [
    "### Поиск по графу и восстановление пути (пока что рекурсивно)"
   ]
  },
  {
   "cell_type": "code",
   "execution_count": 9,
   "id": "f221c71f",
   "metadata": {
    "ExecuteTime": {
     "end_time": "2021-11-18T12:12:58.827733Z",
     "start_time": "2021-11-18T12:12:58.823899Z"
    }
   },
   "outputs": [],
   "source": [
    "def Astar_rec(graph, start, finish):\n",
    "    queue = []\n",
    "    heappush(queue, (0, start))\n",
    "    cost_visited = {start: 0}\n",
    "    visited = {start: None}\n",
    "\n",
    "    while queue:\n",
    "        cur_cost, cur_node = heappop(queue)\n",
    "        if cur_node == finish:\n",
    "            break\n",
    "\n",
    "        next_nodes = graph[cur_node]\n",
    "        for next_node in next_nodes:\n",
    "            neigh_cost, neigh_node = next_node\n",
    "            new_cost = cost_visited[cur_node] + neigh_cost\n",
    "\n",
    "            if neigh_node not in cost_visited or new_cost < cost_visited[neigh_node]:\n",
    "                priority = new_cost + heuristic(neigh_node, finish)\n",
    "                heappush(queue, (priority, neigh_node))\n",
    "                cost_visited[neigh_node] = new_cost\n",
    "                visited[neigh_node] = cur_node\n",
    "\n",
    "    result = recover_path(visited, start, finish)\n",
    "    return result"
   ]
  },
  {
   "cell_type": "code",
   "execution_count": 10,
   "id": "73a6309c",
   "metadata": {
    "ExecuteTime": {
     "end_time": "2021-11-18T12:12:58.861720Z",
     "start_time": "2021-11-18T12:12:58.829165Z"
    }
   },
   "outputs": [
    {
     "name": "stdout",
     "output_type": "stream",
     "text": [
      "['A', 'B', 'C']\n"
     ]
    }
   ],
   "source": [
    "N = 50\n",
    "M = 50\n",
    "gr = graph_gen(N, M)\n",
    "start = (0, 1)\n",
    "goal = (15, 45)\n",
    "res = Astar_rec(gr, start, goal)\n",
    "# result = recover_path(res, start, goal)\n",
    "print(result)"
   ]
  },
  {
   "cell_type": "markdown",
   "id": "bbc94f85",
   "metadata": {},
   "source": [
    "### Отображение (пока что псевдографикой)"
   ]
  },
  {
   "cell_type": "code",
   "execution_count": 11,
   "id": "b547dc66",
   "metadata": {
    "ExecuteTime": {
     "end_time": "2021-11-18T12:12:58.866696Z",
     "start_time": "2021-11-18T12:12:58.863057Z"
    }
   },
   "outputs": [],
   "source": [
    "def draw_graph(N, M, result, start, goal, forbidden=[]):\n",
    "    for i in range(N):\n",
    "        for j in range(M):\n",
    "            if (i, j) in forbidden:\n",
    "                print('X', end='')\n",
    "            elif i == start[0] and j == start[1]:\n",
    "                print('S', end='')\n",
    "            elif (i, j) in result:\n",
    "                print('#', end='')\n",
    "            elif i == goal[0] and j == goal[1]:\n",
    "                print('F', end='')\n",
    "            else:\n",
    "                print('.', end='')\n",
    "        print('\\n', end='')"
   ]
  },
  {
   "cell_type": "code",
   "execution_count": 12,
   "id": "51363a65",
   "metadata": {
    "ExecuteTime": {
     "end_time": "2021-11-18T12:12:58.871063Z",
     "start_time": "2021-11-18T12:12:58.867820Z"
    }
   },
   "outputs": [],
   "source": [
    "def draw_graph_pathless(N, M, start, goal, forbidden=[]):\n",
    "    for i in range(N):\n",
    "        for j in range(M):\n",
    "            if (i, j) in forbidden:\n",
    "                print('X', end='')\n",
    "            elif i == start[0] and j == start[1]:\n",
    "                print('S', end='')\n",
    "            elif i == goal[0] and j == goal[1]:\n",
    "                print('F', end='')\n",
    "            else:\n",
    "                print('.', end='')\n",
    "        print('\\n', end='')"
   ]
  },
  {
   "cell_type": "markdown",
   "id": "31774cd4",
   "metadata": {},
   "source": [
    "### Генерация запретных зон"
   ]
  },
  {
   "cell_type": "code",
   "execution_count": 13,
   "id": "39222e8e",
   "metadata": {
    "ExecuteTime": {
     "end_time": "2021-11-18T12:12:58.894916Z",
     "start_time": "2021-11-18T12:12:58.891941Z"
    }
   },
   "outputs": [],
   "source": [
    "def forbidden_gen_rectangle(start, goal):\n",
    "    forbidden = []\n",
    "    for i in range(start[0], goal[0] + 1):\n",
    "        for j in range(start[1], goal[1] + 1):\n",
    "            forbidden.append((i, j))\n",
    "    return set(forbidden)"
   ]
  },
  {
   "cell_type": "code",
   "execution_count": 14,
   "id": "4d6a7ded",
   "metadata": {
    "ExecuteTime": {
     "end_time": "2021-11-18T12:12:58.900346Z",
     "start_time": "2021-11-18T12:12:58.896768Z"
    }
   },
   "outputs": [],
   "source": [
    "def forbidden_random(N, M, k=0):\n",
    "    forbidden = set()\n",
    "    for _ in range(k):\n",
    "        f1 = randint(0, N-1)\n",
    "        f2 = randint(0, M-1)\n",
    "        forbidden.add((f1, f2))\n",
    "    return forbidden"
   ]
  },
  {
   "cell_type": "code",
   "execution_count": 28,
   "id": "c916978d",
   "metadata": {
    "ExecuteTime": {
     "end_time": "2021-11-18T13:00:45.941262Z",
     "start_time": "2021-11-18T13:00:45.926881Z"
    }
   },
   "outputs": [
    {
     "name": "stdout",
     "output_type": "stream",
     "text": [
      "{(0, 0): [(1, (0, 1)), (1, (1, 1)), (1, (1, 0))], (0, 1): [(1, (0, 2)), (1, (1, 2)), (1, (1, 1)), (1, (1, 0)), (1, (0, 0))], (0, 2): [(1, (1, 2)), (1, (1, 1)), (1, (0, 1))], (1, 0): [(1, (0, 0)), (1, (0, 1)), (1, (1, 1)), (1, (2, 1)), (1, (2, 0))], (1, 1): [(1, (0, 0)), (1, (0, 1)), (1, (0, 2)), (1, (1, 2)), (1, (2, 2)), (1, (2, 1)), (1, (2, 0)), (1, (1, 0))], (1, 2): [(1, (0, 1)), (1, (0, 2)), (1, (2, 2)), (1, (2, 1)), (1, (1, 1))], (2, 0): [(1, (1, 0)), (1, (1, 1)), (1, (2, 1))], (2, 1): [(1, (1, 0)), (1, (1, 1)), (1, (1, 2)), (1, (2, 2)), (1, (2, 0))], (2, 2): [(1, (1, 1)), (1, (1, 2)), (1, (2, 1))]}\n",
      "S.........\n",
      ".#........\n",
      "..#.......\n",
      "...####...\n",
      "....XXX#..\n",
      "....XXX.#.\n",
      "....XXX..#\n",
      ".........#\n",
      ".........#\n",
      ".........F\n"
     ]
    }
   ],
   "source": [
    "N = 10\n",
    "M = 10\n",
    "k = 0\n",
    "lu_fob = (4,4)\n",
    "rb_fob = (6,6)\n",
    "test = forbidden_gen_rectangle(lu_fob, rb_fob)\n",
    "# test2 = forbidden_random(N, M, k)\n",
    "# test = test  # .union(forbidden_random(N, M, k))\n",
    "gr = graph_gen(N, M, forbidden=test)\n",
    "start = (0, 0)\n",
    "goal = (N-1, M-1)\n",
    "# res = Astar_rec(gr, start, goal)\n",
    "\n",
    "print(graph)\n",
    "res = Astar_rec(gr, start, goal)\n",
    "draw_graph(N, M, res, start, goal, forbidden=test)"
   ]
  },
  {
   "cell_type": "code",
   "execution_count": 16,
   "id": "64ac7a36",
   "metadata": {
    "ExecuteTime": {
     "end_time": "2021-11-18T12:12:59.250803Z",
     "start_time": "2021-11-18T12:12:59.091352Z"
    }
   },
   "outputs": [
    {
     "name": "stdout",
     "output_type": "stream",
     "text": [
      "S.................................................\n",
      ".#................................................\n",
      "..#...............................................\n",
      "...#..............................................\n",
      "....#.............................................\n",
      ".....#............................................\n",
      "......#...........................................\n",
      ".......#..........................................\n",
      "........#.........................................\n",
      ".........#........................................\n",
      "..........#.......................................\n",
      "...........#......................................\n",
      "............#.....................................\n",
      ".............#....................................\n",
      "..............#...................................\n",
      "...............#..................................\n",
      "................#.................................\n",
      ".................#................................\n",
      "..................#...............................\n",
      "...................#..............................\n",
      "....................#.............................\n",
      ".....................#............................\n",
      "......................#...........................\n",
      ".......................#..........................\n",
      "........................#.........................\n",
      ".........................#........................\n",
      "..........................#.......................\n",
      "...........................#......................\n",
      "............................#.....................\n",
      ".............................#....................\n",
      "..............................#...................\n",
      "...............................#..................\n",
      "................................#.................\n",
      ".................................#................\n",
      "..................................#...............\n",
      "...................................#..............\n",
      "....................................#.............\n",
      ".....................................#............\n",
      "......................................#...........\n",
      ".......................................#..........\n",
      "........................................#.........\n",
      ".........................................#........\n",
      "..........................................#.......\n",
      "...........................................#......\n",
      "............................................#.....\n",
      ".............................................#....\n",
      "..............................................#...\n",
      "...............................................#..\n",
      "................................................#.\n",
      ".................................................F\n"
     ]
    }
   ],
   "source": [
    "res = Astar_rec(gr, start, goal)\n",
    "draw_graph(N, M, res, start, goal, forbidden=test)"
   ]
  },
  {
   "cell_type": "markdown",
   "id": "c8bc9fb9",
   "metadata": {},
   "source": [
    "## Красивые рисунки"
   ]
  },
  {
   "attachments": {
    "image.png": {
     "image/png": "[encoded data removed]"
    }
   },
   "cell_type": "markdown",
   "id": "34866ac6",
   "metadata": {},
   "source": [
    "![image.png](attachment:image.png)"
   ]
  },
  {
   "cell_type": "code",
   "execution_count": 17,
   "id": "6ca8b8ee",
   "metadata": {
    "ExecuteTime": {
     "end_time": "2021-11-18T12:12:59.264987Z",
     "start_time": "2021-11-18T12:12:59.252856Z"
    }
   },
   "outputs": [],
   "source": [
    "from PIL import Image"
   ]
  },
  {
   "cell_type": "code",
   "execution_count": 18,
   "id": "6e75184b",
   "metadata": {
    "ExecuteTime": {
     "end_time": "2021-11-18T12:12:59.273441Z",
     "start_time": "2021-11-18T12:12:59.266561Z"
    }
   },
   "outputs": [],
   "source": [
    "ws = np.array([[0, 0, 0, 0, 0, 0, 0],\n",
    "               [0, 255, 255, 255, 255, 255, 0],\n",
    "               [0, 255, 0, 0, 0, 0, 0],\n",
    "               [0, 255, 255, 255, 255, 255, 0],\n",
    "               [0, 0, 0, 0, 0, 255, 0],\n",
    "               [0, 255, 255, 255, 255, 255, 0],\n",
    "               [0, 0, 0, 0, 0, 0, 0]])\n",
    "\n",
    "wf = np.array([[0, 0, 0, 0, 0, 0, 0],\n",
    "               [0, 255, 255, 255, 255, 255, 0],\n",
    "               [0, 255, 0, 0, 0, 0, 0],\n",
    "               [0, 255, 255, 255, 0, 0, 0],\n",
    "               [0, 255, 0, 0, 0, 0, 0],\n",
    "               [0, 255, 0, 0, 0, 0, 0],\n",
    "               [0, 0, 0, 0, 0, 0, 0]])\n",
    "\n",
    "wx = np.array([[0, 0, 0, 0, 0, 0, 0],\n",
    "               [0, 255, 0, 0, 0, 255, 0],\n",
    "               [0, 0, 255, 0, 255, 0, 0],\n",
    "               [0, 0, 0, 255, 0, 0, 0],\n",
    "               [0, 0, 255, 0, 255, 0, 0],\n",
    "               [0, 255, 0, 0, 0, 255, 0],\n",
    "               [0, 0, 0, 0, 0, 0, 0]])\n",
    "\n",
    "wp = np.array([[0, 0, 0, 0, 0, 0, 0],\n",
    "               [0, 0, 255, 255, 255, 0, 0],\n",
    "               [0, 255, 0, 0, 0, 255, 0],\n",
    "               [0, 255, 0, 0, 0, 255, 0],\n",
    "               [0, 255, 0, 0, 0, 255, 0],\n",
    "               [0, 0, 255, 255, 255, 0, 0],\n",
    "               [0, 0, 0, 0, 0, 0, 0]])"
   ]
  },
  {
   "cell_type": "code",
   "execution_count": 19,
   "id": "0fd2fd8a",
   "metadata": {
    "ExecuteTime": {
     "end_time": "2021-11-18T12:12:59.620622Z",
     "start_time": "2021-11-18T12:12:59.274673Z"
    }
   },
   "outputs": [
    {
     "name": "stderr",
     "output_type": "stream",
     "text": [
      "100%|███████████████████████████████████████████████████████████████████████████████████████████████████████████████████████████████████████████████████████████████████████████| 150/150 [00:00<00:00, 860.48it/s]\n"
     ]
    }
   ],
   "source": [
    "N = 150*1\n",
    "M = 200*1\n",
    "k = 300*4\n",
    "lu_fob = (7, 8)\n",
    "rb_fob = (122, 178)\n",
    "test = forbidden_gen_rectangle(lu_fob, rb_fob)\n",
    "test2 = forbidden_random(N, M, k)\n",
    "gr = graph_gen(N, M, forbidden=test.union(test2))\n",
    "start = (0, 0)\n",
    "goal = (N-1, M-1)\n",
    "# res = Astar_rec(gr, start, goal)\n",
    "\n",
    "forbidden = test2#.union(test)\n",
    "res = Astar_rec(gr, start, goal)\n",
    "\n",
    "coef = 7\n",
    "\n",
    "if coef != 7:\n",
    "    wx = np.full((coef, coef), 50)\n",
    "    ws = np.full((coef, coef), 255)\n",
    "    wp = np.full((coef, coef), 255)\n",
    "    wf = np.full((coef, coef), 255)\n",
    "image = np.ones((N*coef, M*coef))\n",
    "# Image.fromarray(image).show()\n",
    "for i in tqdm(range(N)):\n",
    "    for j in range(M):\n",
    "        center1 = coef//2 + coef*i\n",
    "        center2 = coef//2 + coef*j\n",
    "        if (i, j) in forbidden:\n",
    "            image[center1-coef//2:center1+coef//2 + 1, center2-coef//2:center2+coef//2 + 1] *= wx\n",
    "        elif i == start[0] and j == start[1]:\n",
    "            image[center1-coef//2:center1+coef//2 + 1, center2-coef//2:center2+coef//2 + 1] *= ws\n",
    "            pass\n",
    "        elif (i, j) in res:\n",
    "            image[center1-coef//2:center1+coef//2 + 1, center2-coef//2:center2+coef//2 + 1] *= wp\n",
    "        elif i == goal[0] and j == goal[1]:\n",
    "            pass\n",
    "            image[center1-coef//2:center1+coef//2 + 1, center2-coef//2:center2+coef//2 + 1] *= wf\n",
    "        else:\n",
    "            pass\n",
    "# Image.fromarray(image).show()\n",
    "Image.fromarray(image).convert('L').save('output.jpg')"
   ]
  },
  {
   "cell_type": "code",
   "execution_count": null,
   "id": "44adefd7",
   "metadata": {},
   "outputs": [],
   "source": []
  }
 ],
 "metadata": {
  "kernelspec": {
   "display_name": "Python 3 (ipykernel)",
   "language": "python",
   "name": "python3"
  },
  "language_info": {
   "codemirror_mode": {
    "name": "ipython",
    "version": 3
   },
   "file_extension": ".py",
   "mimetype": "text/x-python",
   "name": "python",
   "nbconvert_exporter": "python",
   "pygments_lexer": "ipython3",
   "version": "3.9.7"
  },
  "toc": {
   "base_numbering": 1,
   "nav_menu": {},
   "number_sections": true,
   "sideBar": true,
   "skip_h1_title": false,
   "title_cell": "Table of Contents",
   "title_sidebar": "Contents",
   "toc_cell": false,
   "toc_position": {},
   "toc_section_display": true,
   "toc_window_display": true
  }
 },
 "nbformat": 4,
 "nbformat_minor": 5
}
