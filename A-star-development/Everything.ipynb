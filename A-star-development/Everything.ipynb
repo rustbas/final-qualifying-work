{
 "cells": [
  {
   "cell_type": "markdown",
   "id": "3c5d2f40",
   "metadata": {},
   "source": [
    "# Библиотеки"
   ]
  },
  {
   "cell_type": "code",
   "execution_count": 613,
   "id": "f6567757",
   "metadata": {},
   "outputs": [],
   "source": [
    "import os\n",
    "import sys\n",
    "import numpy as np\n",
    "import collections\n",
    "from tqdm import tqdm\n",
    "from random import randint"
   ]
  },
  {
   "cell_type": "markdown",
   "id": "96b3ac5c",
   "metadata": {},
   "source": [
    "# A*"
   ]
  },
  {
   "cell_type": "markdown",
   "id": "faac538a",
   "metadata": {},
   "source": [
    "## Проба пера"
   ]
  },
  {
   "cell_type": "code",
   "execution_count": 614,
   "id": "dc49f793",
   "metadata": {},
   "outputs": [
    {
     "name": "stdout",
     "output_type": "stream",
     "text": [
      "D <-- E\n",
      "E <-- A\n",
      "{'A': None, 'B': 'A', 'E': 'A', 'C': 'B', 'D': 'E'}\n"
     ]
    }
   ],
   "source": [
    "from collections import deque\n",
    "\n",
    "gr = {'A': ['B', 'E'],\n",
    "      'B': ['C'],\n",
    "      'C': ['D'],\n",
    "      'D': [],\n",
    "      'E': ['D']}\n",
    "\n",
    "# gr = {i: [i+1] for i in range(100)}\n",
    "\n",
    "\n",
    "def bfs(graph, start, finish):\n",
    "    queue = deque([start])\n",
    "    visited = {start: None}\n",
    "\n",
    "    while queue:\n",
    "        cur_node = queue.popleft()\n",
    "        if cur_node == finish:\n",
    "            break\n",
    "        next_nodes = graph[cur_node]\n",
    "        for next_node in next_nodes:\n",
    "            if next_node not in visited:\n",
    "                queue.append(next_node)\n",
    "                visited[next_node] = cur_node\n",
    "    return visited\n",
    "\n",
    "\n",
    "s = 'A'\n",
    "g = 'D'\n",
    "\n",
    "visited = bfs(gr, s, g)\n",
    "\n",
    "key = True\n",
    "while key:\n",
    "    if g != s:\n",
    "        print(g + ' <-- ' + visited[g])\n",
    "        g = visited[g]\n",
    "    else:\n",
    "        key = False\n",
    "\n",
    "print(visited)"
   ]
  },
  {
   "cell_type": "code",
   "execution_count": 615,
   "id": "40d3e6bc",
   "metadata": {},
   "outputs": [
    {
     "name": "stdout",
     "output_type": "stream",
     "text": [
      "B\n",
      "E\n",
      "C\n",
      "D\n"
     ]
    },
    {
     "data": {
      "text/plain": [
       "{'A': None, 'B': 'A', 'E': 'A', 'C': 'B', 'D': 'C'}"
      ]
     },
     "execution_count": 615,
     "metadata": {},
     "output_type": "execute_result"
    }
   ],
   "source": [
    "from heapq import *\n",
    "gr = {'A': [(1, 'B'), (2, 'E')],\n",
    "      'B': [(1, 'C')],\n",
    "      'C': [(1, 'D')],\n",
    "      'D': [],\n",
    "      'E': [(2, 'D')]}\n",
    "\n",
    "\n",
    "def dijkstra(graph, start, finish):\n",
    "    queue = []\n",
    "    heappush(queue, (0, start))\n",
    "    cost_visited = {start: 0}\n",
    "    visited = {start: None}\n",
    "\n",
    "    while queue:\n",
    "        cur_cost, cur_node = heappop(queue)\n",
    "        if cur_node == finish:\n",
    "            break\n",
    "\n",
    "        next_nodes = graph[cur_node]\n",
    "        for next_node in next_nodes:\n",
    "            neigh_cost, neigh_node = next_node\n",
    "            new_cost = cost_visited[cur_node] + neigh_cost\n",
    "\n",
    "            if neigh_node not in cost_visited or new_cost < cost_visited[neigh_node]:\n",
    "                print(neigh_node)\n",
    "                heappush(queue, (new_cost, neigh_node))\n",
    "                cost_visited[neigh_node] = new_cost\n",
    "                visited[neigh_node] = cur_node\n",
    "    return visited\n",
    "\n",
    "\n",
    "res = dijkstra(gr, 'A', 'D')\n",
    "res"
   ]
  },
  {
   "cell_type": "markdown",
   "id": "11a5d1fe",
   "metadata": {},
   "source": [
    "## Алгоритмы"
   ]
  },
  {
   "cell_type": "code",
   "execution_count": 616,
   "id": "73a07422",
   "metadata": {},
   "outputs": [
    {
     "name": "stdout",
     "output_type": "stream",
     "text": [
      "['A', 'B', 'C']\n"
     ]
    }
   ],
   "source": [
    "def recover_path(vis, start, goal, path=None):\n",
    "    '''\n",
    "    Важно понимать, что это восстановление рекурсивное\n",
    "    '''\n",
    "    if path == None:\n",
    "        path = []\n",
    "    if start == goal:\n",
    "        return path[::-1]\n",
    "#         return ' --> '.join(path[::-1])\n",
    "    else:\n",
    "        path.append(vis[goal])\n",
    "        return recover_path(vis, start, vis[goal], path)\n",
    "\n",
    "\n",
    "result = recover_path(res, 'A', 'D')\n",
    "print(result)"
   ]
  },
  {
   "cell_type": "code",
   "execution_count": 617,
   "id": "2f644a33",
   "metadata": {},
   "outputs": [],
   "source": [
    "def heuristic(a, b):\n",
    "#     return 10000\n",
    "    return abs(a[0] - b[0]) + abs(a[1] - b[1])"
   ]
  },
  {
   "cell_type": "code",
   "execution_count": 618,
   "id": "e95eaad7",
   "metadata": {},
   "outputs": [
    {
     "ename": "TypeError",
     "evalue": "unsupported operand type(s) for -: 'str' and 'str'",
     "output_type": "error",
     "traceback": [
      "\u001b[0;31m---------------------------------------------------------------------------\u001b[0m",
      "\u001b[0;31mTypeError\u001b[0m                                 Traceback (most recent call last)",
      "\u001b[0;32m/tmp/ipykernel_4107938/1047518540.py\u001b[0m in \u001b[0;36m<module>\u001b[0;34m\u001b[0m\n\u001b[1;32m     23\u001b[0m \u001b[0;34m\u001b[0m\u001b[0m\n\u001b[1;32m     24\u001b[0m \u001b[0;34m\u001b[0m\u001b[0m\n\u001b[0;32m---> 25\u001b[0;31m \u001b[0mres\u001b[0m \u001b[0;34m=\u001b[0m \u001b[0mAstar\u001b[0m\u001b[0;34m(\u001b[0m\u001b[0mgr\u001b[0m\u001b[0;34m,\u001b[0m \u001b[0;34m'A'\u001b[0m\u001b[0;34m,\u001b[0m \u001b[0;34m'D'\u001b[0m\u001b[0;34m)\u001b[0m\u001b[0;34m\u001b[0m\u001b[0;34m\u001b[0m\u001b[0m\n\u001b[0m\u001b[1;32m     26\u001b[0m \u001b[0mresult\u001b[0m \u001b[0;34m=\u001b[0m \u001b[0mrecover_path\u001b[0m\u001b[0;34m(\u001b[0m\u001b[0mres\u001b[0m\u001b[0;34m,\u001b[0m \u001b[0;34m'A'\u001b[0m\u001b[0;34m,\u001b[0m \u001b[0;34m'D'\u001b[0m\u001b[0;34m)\u001b[0m\u001b[0;34m\u001b[0m\u001b[0;34m\u001b[0m\u001b[0m\n\u001b[1;32m     27\u001b[0m \u001b[0mprint\u001b[0m\u001b[0;34m(\u001b[0m\u001b[0mresult\u001b[0m\u001b[0;34m)\u001b[0m\u001b[0;34m\u001b[0m\u001b[0;34m\u001b[0m\u001b[0m\n",
      "\u001b[0;32m/tmp/ipykernel_4107938/1047518540.py\u001b[0m in \u001b[0;36mAstar\u001b[0;34m(graph, start, finish)\u001b[0m\n\u001b[1;32m     16\u001b[0m \u001b[0;34m\u001b[0m\u001b[0m\n\u001b[1;32m     17\u001b[0m             \u001b[0;32mif\u001b[0m \u001b[0mneigh_node\u001b[0m \u001b[0;32mnot\u001b[0m \u001b[0;32min\u001b[0m \u001b[0mcost_visited\u001b[0m \u001b[0;32mor\u001b[0m \u001b[0mnew_cost\u001b[0m \u001b[0;34m<\u001b[0m \u001b[0mcost_visited\u001b[0m\u001b[0;34m[\u001b[0m\u001b[0mneigh_node\u001b[0m\u001b[0;34m]\u001b[0m\u001b[0;34m:\u001b[0m\u001b[0;34m\u001b[0m\u001b[0;34m\u001b[0m\u001b[0m\n\u001b[0;32m---> 18\u001b[0;31m                 \u001b[0mpriority\u001b[0m \u001b[0;34m=\u001b[0m \u001b[0mnew_cost\u001b[0m \u001b[0;34m+\u001b[0m \u001b[0mheuristic\u001b[0m\u001b[0;34m(\u001b[0m\u001b[0mneigh_node\u001b[0m\u001b[0;34m,\u001b[0m \u001b[0mfinish\u001b[0m\u001b[0;34m)\u001b[0m\u001b[0;34m\u001b[0m\u001b[0;34m\u001b[0m\u001b[0m\n\u001b[0m\u001b[1;32m     19\u001b[0m                 \u001b[0mheappush\u001b[0m\u001b[0;34m(\u001b[0m\u001b[0mqueue\u001b[0m\u001b[0;34m,\u001b[0m \u001b[0;34m(\u001b[0m\u001b[0mpriority\u001b[0m\u001b[0;34m,\u001b[0m \u001b[0mneigh_node\u001b[0m\u001b[0;34m)\u001b[0m\u001b[0;34m)\u001b[0m\u001b[0;34m\u001b[0m\u001b[0;34m\u001b[0m\u001b[0m\n\u001b[1;32m     20\u001b[0m                 \u001b[0mcost_visited\u001b[0m\u001b[0;34m[\u001b[0m\u001b[0mneigh_node\u001b[0m\u001b[0;34m]\u001b[0m \u001b[0;34m=\u001b[0m \u001b[0mnew_cost\u001b[0m\u001b[0;34m\u001b[0m\u001b[0;34m\u001b[0m\u001b[0m\n",
      "\u001b[0;32m/tmp/ipykernel_4107938/2369661835.py\u001b[0m in \u001b[0;36mheuristic\u001b[0;34m(a, b)\u001b[0m\n\u001b[1;32m      1\u001b[0m \u001b[0;32mdef\u001b[0m \u001b[0mheuristic\u001b[0m\u001b[0;34m(\u001b[0m\u001b[0ma\u001b[0m\u001b[0;34m,\u001b[0m \u001b[0mb\u001b[0m\u001b[0;34m)\u001b[0m\u001b[0;34m:\u001b[0m\u001b[0;34m\u001b[0m\u001b[0;34m\u001b[0m\u001b[0m\n\u001b[1;32m      2\u001b[0m \u001b[0;31m#     return 10000\u001b[0m\u001b[0;34m\u001b[0m\u001b[0;34m\u001b[0m\u001b[0m\n\u001b[0;32m----> 3\u001b[0;31m     \u001b[0;32mreturn\u001b[0m \u001b[0mabs\u001b[0m\u001b[0;34m(\u001b[0m\u001b[0ma\u001b[0m\u001b[0;34m[\u001b[0m\u001b[0;36m0\u001b[0m\u001b[0;34m]\u001b[0m \u001b[0;34m-\u001b[0m \u001b[0mb\u001b[0m\u001b[0;34m[\u001b[0m\u001b[0;36m0\u001b[0m\u001b[0;34m]\u001b[0m\u001b[0;34m)\u001b[0m \u001b[0;34m+\u001b[0m \u001b[0mabs\u001b[0m\u001b[0;34m(\u001b[0m\u001b[0ma\u001b[0m\u001b[0;34m[\u001b[0m\u001b[0;36m1\u001b[0m\u001b[0;34m]\u001b[0m \u001b[0;34m-\u001b[0m \u001b[0mb\u001b[0m\u001b[0;34m[\u001b[0m\u001b[0;36m1\u001b[0m\u001b[0;34m]\u001b[0m\u001b[0;34m)\u001b[0m\u001b[0;34m\u001b[0m\u001b[0;34m\u001b[0m\u001b[0m\n\u001b[0m",
      "\u001b[0;31mTypeError\u001b[0m: unsupported operand type(s) for -: 'str' and 'str'"
     ]
    }
   ],
   "source": [
    "def Astar(graph, start, finish):\n",
    "    queue = []\n",
    "    heappush(queue, (0, start))\n",
    "    cost_visited = {start: 0}\n",
    "    visited = {start: None}\n",
    "\n",
    "    while queue:\n",
    "        cur_cost, cur_node = heappop(queue)\n",
    "        if cur_node == finish:\n",
    "            break\n",
    "\n",
    "        next_nodes = graph[cur_node]\n",
    "        for next_node in next_nodes:\n",
    "            neigh_cost, neigh_node = next_node\n",
    "            new_cost = cost_visited[cur_node] + neigh_cost\n",
    "\n",
    "            if neigh_node not in cost_visited or new_cost < cost_visited[neigh_node]:\n",
    "                priority = new_cost + heuristic(neigh_node, finish)\n",
    "                heappush(queue, (priority, neigh_node))\n",
    "                cost_visited[neigh_node] = new_cost\n",
    "                visited[neigh_node] = cur_node\n",
    "    return visited\n",
    "\n",
    "\n",
    "res = Astar(gr, 'A', 'D')\n",
    "result = recover_path(res, 'A', 'D')\n",
    "print(result)"
   ]
  },
  {
   "cell_type": "code",
   "execution_count": null,
   "id": "274173c8",
   "metadata": {},
   "outputs": [],
   "source": [
    "graph = {}\n",
    "n = 15\n",
    "m = 80\n",
    "for i in range(n):\n",
    "    for j in range(m):\n",
    "        if i == n-1:\n",
    "            graph[(i, j)] = [(1, (i, j+1))]\n",
    "        elif j == m-1:\n",
    "            graph[(i, j)] = [(1, (i+1, j))]\n",
    "        else:\n",
    "            graph[(i, j)] = [(1, (i+1, j)), (1, (i, j+1)), (2, (i+1, j+1))]\n",
    "# print(graph.values())\n",
    "\n",
    "start = (5, 3)\n",
    "goal = (10, 65)\n",
    "\n",
    "vis = Astar(graph, start, goal)\n",
    "result = recover_path(vis, start, goal)"
   ]
  },
  {
   "cell_type": "code",
   "execution_count": null,
   "id": "c5456bf6",
   "metadata": {},
   "outputs": [],
   "source": [
    "for i in range(n):\n",
    "    for j in range(m):\n",
    "        if i == start[0] and j == start[1]:\n",
    "            print('S', end='')\n",
    "        elif (i, j) in result:\n",
    "            print('#', end='')\n",
    "        elif i == goal[0] and j == goal[1]:\n",
    "            print('F', end='')\n",
    "        else:\n",
    "            print('.', end='')\n",
    "    print('\\n', end='')"
   ]
  },
  {
   "cell_type": "markdown",
   "id": "93173eaa",
   "metadata": {},
   "source": [
    "## Финальное оформление"
   ]
  },
  {
   "cell_type": "markdown",
   "id": "523417f8",
   "metadata": {},
   "source": [
    "### Генерация графа\n",
    "\n",
    "**Задача**\n",
    "\n",
    "1. Сгенерировать квадратную сетку $N$ на $M$\n",
    "2. Сделать на ее основе граф с весами до соседних клеток равный $d$"
   ]
  },
  {
   "cell_type": "code",
   "execution_count": 619,
   "id": "a585eb43",
   "metadata": {
    "scrolled": false
   },
   "outputs": [
    {
     "name": "stdout",
     "output_type": "stream",
     "text": [
      "3\n",
      "5\n",
      "3\n",
      "5\n",
      "8\n",
      "5\n",
      "3\n",
      "5\n",
      "3\n"
     ]
    }
   ],
   "source": [
    "N = 3\n",
    "M = 3\n",
    "\n",
    "d = 1\n",
    "\n",
    "graph = {}\n",
    "forbidden = []\n",
    "\n",
    "for i in range(N):\n",
    "    for j in range(M):\n",
    "        graph[(i, j)] = []\n",
    "\n",
    "for i in range(N):\n",
    "    for j in range(M):\n",
    "        if (i, j) not in forbidden:\n",
    "            if i-1 != -1 and j-1 != -1:\n",
    "                graph[(i, j)].append((d, (i-1, j-1)))\n",
    "            if i-1 != -1 and 0 <= j < M:\n",
    "                graph[(i, j)].append((d, (i-1, j)))\n",
    "            if i-1 != -1 and j+1 != M:\n",
    "                graph[(i, j)].append((d, (i-1, j+1)))\n",
    "            if 0 <= i <= N and j+1 != M:\n",
    "                graph[(i, j)].append((d, (i, j+1)))\n",
    "            if i+1 != N and j+1 != M:\n",
    "                graph[(i, j)].append((d, (i+1, j+1)))\n",
    "            if i+1 != N and 0 <= j < M:\n",
    "                graph[(i, j)].append((d, (i+1, j)))\n",
    "            if i+1 != N and j-1 != -1:\n",
    "                graph[(i, j)].append((d, (i+1, j-1)))\n",
    "            if 0 <= i < N and j-1 != -1:\n",
    "                graph[(i, j)].append((d, (i, j-1)))\n",
    "\n",
    "\n",
    "#         if i != N-1 and i != 0 and j != M-1 and j != 0:\n",
    "#             graph[(i, j)] = [(d, (i-1, j-1)), (d, (i-1, j)), (d, (i-1, j+1)), (d, (i, j+1)),\n",
    "#                              (d, (i+1, j+1)), (d, (i+1, j)), (d, (i+1, j-1)), (d, (i, j-1))]\n",
    "#         elif i == 0 and j == 0:\n",
    "#             graph[(i,j)] = [(d, (i, j+1)), (d, (i+1,j+1)), (d, (i+1, j))]\n",
    "#         elif i == 0 and j != 0:\n",
    "#             graph[(i,j)] = [(d, (i, j+1)), (d, (i+1,j+1)), (d, (i+1, j)),\n",
    "#                             (d, (i+1, j-1)), (d, (i, j-1))]\n",
    "\n",
    "for key in graph:\n",
    "    print(len(graph[key]))"
   ]
  },
  {
   "cell_type": "code",
   "execution_count": 620,
   "id": "0f52dd2e",
   "metadata": {},
   "outputs": [],
   "source": [
    "def graph_gen(N=3, M=3, d=1, forbidden=[]):\n",
    "    graph = {}\n",
    "\n",
    "    for i in range(N):\n",
    "        for j in range(M):\n",
    "            graph[(i, j)] = []\n",
    "\n",
    "    for i in range(N):\n",
    "        for j in range(M):\n",
    "            if (i, j) not in forbidden:\n",
    "                if i-1 != -1 and j-1 != -1 and (i-1, j-1) not in forbidden:\n",
    "                    graph[(i, j)].append((d*1.41, (i-1, j-1)))  # 1 - ая ячейка\n",
    "                if i-1 != -1 and 0 <= j < M and (i-1, j) not in forbidden:\n",
    "                    graph[(i, j)].append((d, (i-1, j)))        # 2 - ая ячейка\n",
    "                if i-1 != -1 and j+1 != M and (i-1, j+1) not in forbidden:\n",
    "                    graph[(i, j)].append((d*1.41, (i-1, j+1)))  # 3 - ая ячейка\n",
    "                if 0 <= i <= N and j+1 != M and (i, j+1) not in forbidden:\n",
    "                    graph[(i, j)].append((d, (i, j+1)))        # 4 - ая ячейка\n",
    "                if i+1 != N and j+1 != M and (i+1, j+1) not in forbidden:\n",
    "                    graph[(i, j)].append((d*1.41, (i+1, j+1)))  # 5 - ая ячейка\n",
    "                if i+1 != N and 0 <= j < M and (i+1, j) not in forbidden:\n",
    "                    graph[(i, j)].append((d, (i+1, j)))        # 6 - ая ячейка\n",
    "                if i+1 != N and j-1 != -1 and (i+1, j-1) not in forbidden:\n",
    "                    graph[(i, j)].append((d*1.41, (i+1, j-1)))  # 7 - ая ячейка\n",
    "                if 0 <= i < N and j-1 != -1 and (i, j-1) not in forbidden:\n",
    "                    graph[(i, j)].append((d, (i, j-1)))        # 8 - ая ячейка\n",
    "    return graph"
   ]
  },
  {
   "cell_type": "markdown",
   "id": "6bfded7a",
   "metadata": {},
   "source": [
    "### Поиск по графу и восстановление пути (пока что рекурсивно)"
   ]
  },
  {
   "cell_type": "code",
   "execution_count": 621,
   "id": "24137df9",
   "metadata": {},
   "outputs": [],
   "source": [
    "def Astar_rec(graph, start, finish):\n",
    "    queue = []\n",
    "    heappush(queue, (0, start))\n",
    "    cost_visited = {start: 0}\n",
    "    visited = {start: None}\n",
    "\n",
    "    while queue:\n",
    "        cur_cost, cur_node = heappop(queue)\n",
    "        if cur_node == finish:\n",
    "            break\n",
    "\n",
    "        next_nodes = graph[cur_node]\n",
    "        for next_node in next_nodes:\n",
    "            neigh_cost, neigh_node = next_node\n",
    "            new_cost = cost_visited[cur_node] + neigh_cost\n",
    "\n",
    "            if neigh_node not in cost_visited or new_cost < cost_visited[neigh_node]:\n",
    "                priority = new_cost + heuristic(neigh_node, finish)\n",
    "                heappush(queue, (priority, neigh_node))\n",
    "                cost_visited[neigh_node] = new_cost\n",
    "                visited[neigh_node] = cur_node\n",
    "\n",
    "    result = recover_path(visited, start, finish)\n",
    "    return result"
   ]
  },
  {
   "cell_type": "code",
   "execution_count": 622,
   "id": "bba0ed12",
   "metadata": {},
   "outputs": [
    {
     "name": "stdout",
     "output_type": "stream",
     "text": [
      "['A', 'B', 'C']\n"
     ]
    }
   ],
   "source": [
    "N = 50\n",
    "M = 50\n",
    "gr = graph_gen(N, M)\n",
    "start = (0, 1)\n",
    "goal = (15, 45)\n",
    "res = Astar_rec(gr, start, goal)\n",
    "# result = recover_path(res, start, goal)\n",
    "print(result)"
   ]
  },
  {
   "cell_type": "markdown",
   "id": "fa6d64c3",
   "metadata": {},
   "source": [
    "### Отображение (пока что псевдографикой)"
   ]
  },
  {
   "cell_type": "code",
   "execution_count": 623,
   "id": "47718da2",
   "metadata": {},
   "outputs": [],
   "source": [
    "def draw_graph(N, M, result, start, goal, forbidden=[]):\n",
    "    for i in range(N):\n",
    "        for j in range(M):\n",
    "            if (i, j) in forbidden:\n",
    "                print('X', end='')\n",
    "            elif i == start[0] and j == start[1]:\n",
    "                print('S', end='')\n",
    "            elif (i, j) in result:\n",
    "                print('#', end='')\n",
    "            elif i == goal[0] and j == goal[1]:\n",
    "                print('F', end='')\n",
    "            else:\n",
    "                print('.', end='')\n",
    "        print('\\n', end='')"
   ]
  },
  {
   "cell_type": "code",
   "execution_count": 624,
   "id": "e98045fb",
   "metadata": {},
   "outputs": [],
   "source": [
    "def draw_graph_pathless(N, M, start, goal, forbidden=[]):\n",
    "    for i in range(N):\n",
    "        for j in range(M):\n",
    "            if (i, j) in forbidden:\n",
    "                print('X', end='')\n",
    "            elif i == start[0] and j == start[1]:\n",
    "                print('S', end='')\n",
    "            elif i == goal[0] and j == goal[1]:\n",
    "                print('F', end='')\n",
    "            else:\n",
    "                print('.', end='')\n",
    "        print('\\n', end='')"
   ]
  },
  {
   "cell_type": "markdown",
   "id": "d22ca59f",
   "metadata": {},
   "source": [
    "### Генерация запретных зон"
   ]
  },
  {
   "cell_type": "code",
   "execution_count": 625,
   "id": "068f89ad",
   "metadata": {},
   "outputs": [],
   "source": [
    "def forbidden_gen_rectangle(start, goal):\n",
    "    forbidden = []\n",
    "    for i in range(start[0], goal[0] + 1):\n",
    "        for j in range(start[1], goal[1] + 1):\n",
    "            forbidden.append((i,j))\n",
    "    return set(forbidden)"
   ]
  },
  {
   "cell_type": "code",
   "execution_count": 626,
   "id": "73e13028",
   "metadata": {},
   "outputs": [],
   "source": [
    "def forbidden_random(N, M, k=0):\n",
    "    forbidden = set()\n",
    "    for _ in range(k):\n",
    "        f1 = randint(0, N-1)\n",
    "        f2 = randint(0, M-1)\n",
    "        forbidden.add((f1,f2))\n",
    "    return forbidden"
   ]
  },
  {
   "cell_type": "code",
   "execution_count": 627,
   "id": "a4b57a71",
   "metadata": {},
   "outputs": [
    {
     "name": "stdout",
     "output_type": "stream",
     "text": [
      "S.........................X....X................X......................X.......................X....\n",
      ".#.........................X............................X...........X...............................\n",
      "..#................................X..................................X...............X.............\n",
      "...#................................................X..........X.............................X......\n",
      "....#....................................X......................................X............X......\n",
      ".....#.......X.......X.....X...............X........................................................\n",
      "......#.................X......................................................................X....\n",
      ".......#........X.........................X......X..................................................\n",
      "........#............................X............................................X.................\n",
      ".........#.............................X............................................................\n",
      "......X..X#...........X.............................................X...............................\n",
      "...........#................X.......................................................................\n",
      "............#..............................................X........................................\n",
      ".............#...................................X..................................................\n",
      "..............#..............................................................X......................\n",
      "...............#...........X........................................................................\n",
      "................#...................................................................................\n",
      "......X..........#..................................................................................\n",
      "..................#....................................X......................................X.....\n",
      "...................#................................................................................\n",
      "............X.......#...............................................................................\n",
      ".....................#...................................X..........................................\n",
      ".............X........#########################################################.................X...\n",
      "..............X........X..................................X...................X################.....\n",
      "..............................................................................................X####F\n"
     ]
    }
   ],
   "source": [
    "N = 25\n",
    "M = 100\n",
    "k = 50\n",
    "lu_fob = (0,1)\n",
    "rb_fob = (23, 99)\n",
    "test = forbidden_gen_rectangle(lu_fob, rb_fob)\n",
    "test2 = forbidden_random(N, M, k)\n",
    "test = test2#.union(forbidden_random(N, M, k))\n",
    "gr = graph_gen(N, M, forbidden=test)\n",
    "start = (0, 0)\n",
    "goal = (N-1, M-1)\n",
    "# res = Astar_rec(gr, start, goal)\n",
    "\n",
    "res = Astar_rec(gr, start, goal)\n",
    "draw_graph(N, M, res, start, goal, forbidden=test)"
   ]
  },
  {
   "cell_type": "code",
   "execution_count": 628,
   "id": "a9c95a61",
   "metadata": {},
   "outputs": [
    {
     "name": "stdout",
     "output_type": "stream",
     "text": [
      "S.........................X....X................X......................X.......................X....\n",
      ".#.........................X............................X...........X...............................\n",
      "..#................................X..................................X...............X.............\n",
      "...#................................................X..........X.............................X......\n",
      "....#....................................X......................................X............X......\n",
      ".....#.......X.......X.....X...............X........................................................\n",
      "......#.................X......................................................................X....\n",
      ".......#........X.........................X......X..................................................\n",
      "........#............................X............................................X.................\n",
      ".........#.............................X............................................................\n",
      "......X..X#...........X.............................................X...............................\n",
      "...........#................X.......................................................................\n",
      "............#..............................................X........................................\n",
      ".............#...................................X..................................................\n",
      "..............#..............................................................X......................\n",
      "...............#...........X........................................................................\n",
      "................#...................................................................................\n",
      "......X..........#..................................................................................\n",
      "..................#....................................X......................................X.....\n",
      "...................#................................................................................\n",
      "............X.......#...............................................................................\n",
      ".....................#...................................X..........................................\n",
      ".............X........#########################################################.................X...\n",
      "..............X........X..................................X...................X################.....\n",
      "..............................................................................................X####F\n"
     ]
    }
   ],
   "source": [
    "res = Astar_rec(gr, start, goal)\n",
    "draw_graph(N, M, res, start, goal, forbidden=test)"
   ]
  }
 ],
 "metadata": {
  "kernelspec": {
   "display_name": "Python 3 (ipykernel)",
   "language": "python",
   "name": "python3"
  },
  "language_info": {
   "codemirror_mode": {
    "name": "ipython",
    "version": 3
   },
   "file_extension": ".py",
   "mimetype": "text/x-python",
   "name": "python",
   "nbconvert_exporter": "python",
   "pygments_lexer": "ipython3",
   "version": "3.9.7"
  },
  "toc": {
   "base_numbering": 1,
   "nav_menu": {},
   "number_sections": true,
   "sideBar": true,
   "skip_h1_title": false,
   "title_cell": "Table of Contents",
   "title_sidebar": "Contents",
   "toc_cell": false,
   "toc_position": {},
   "toc_section_display": true,
   "toc_window_display": true
  }
 },
 "nbformat": 4,
 "nbformat_minor": 5
}
