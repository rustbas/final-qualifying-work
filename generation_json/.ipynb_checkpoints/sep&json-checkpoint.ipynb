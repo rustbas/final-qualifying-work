{
 "cells": [
  {
   "cell_type": "code",
   "execution_count": 236,
   "id": "2a747e27",
   "metadata": {
    "ExecuteTime": {
     "end_time": "2021-12-16T02:02:46.269499Z",
     "start_time": "2021-12-16T02:02:46.267144Z"
    }
   },
   "outputs": [],
   "source": [
    "import matplotlib.pyplot as plt\n",
    "import numpy as np\n",
    "from scipy.stats import uniform\n",
    "from json import *\n",
    "from tqdm import tqdm\n",
    "\n",
    "str_format = '05d'"
   ]
  },
  {
   "cell_type": "markdown",
   "id": "f60b4e9e",
   "metadata": {},
   "source": [
    "# Генерация точек\n",
    "\n",
    "$$\\large{\n",
    "5 \\ точек \\sim U(100, 1000)\n",
    "}$$"
   ]
  },
  {
   "cell_type": "code",
   "execution_count": 237,
   "id": "1495403f",
   "metadata": {
    "ExecuteTime": {
     "end_time": "2021-12-16T02:02:46.292331Z",
     "start_time": "2021-12-16T02:02:46.289658Z"
    }
   },
   "outputs": [],
   "source": [
    "n = 5\n",
    "X = np.round(uniform.rvs(loc=100, scale=900, size=n), 3)\n",
    "Y = np.round(uniform.rvs(loc=100, scale=900, size=n), 3)\n"
   ]
  },
  {
   "cell_type": "markdown",
   "id": "80458ecf",
   "metadata": {},
   "source": [
    "# DATA2JSON"
   ]
  },
  {
   "cell_type": "code",
   "execution_count": 238,
   "id": "2d80e8dd",
   "metadata": {
    "ExecuteTime": {
     "end_time": "2021-12-16T02:02:46.310408Z",
     "start_time": "2021-12-16T02:02:46.307586Z"
    }
   },
   "outputs": [],
   "source": [
    "data = dict()\n",
    "for i in range(n):\n",
    "    data[format(i, str_format)] = {'X':X[i], 'Y':Y[i]}\n",
    "with open(\"coordinates.json\", \"w\") as outfile:\n",
    "    json.dump(data, outfile, indent=4)"
   ]
  },
  {
   "cell_type": "markdown",
   "id": "e30e969c",
   "metadata": {},
   "source": [
    "# JSON2DATA"
   ]
  },
  {
   "cell_type": "code",
   "execution_count": 239,
   "id": "ce4c88d5",
   "metadata": {
    "ExecuteTime": {
     "end_time": "2021-12-16T02:02:46.327511Z",
     "start_time": "2021-12-16T02:02:46.325264Z"
    }
   },
   "outputs": [],
   "source": [
    "with open(\"coordinates.json\") as infile:\n",
    "    data = load(infile)"
   ]
  },
  {
   "cell_type": "code",
   "execution_count": 240,
   "id": "7f1b3515",
   "metadata": {
    "ExecuteTime": {
     "end_time": "2021-12-16T02:02:46.331379Z",
     "start_time": "2021-12-16T02:02:46.328836Z"
    }
   },
   "outputs": [],
   "source": [
    "N = len(data)\n",
    "X = np.zeros(N)\n",
    "Y = np.zeros(N)\n",
    "\n",
    "for i in range(N):\n",
    "    X[i] = data[format(i, str_format)]['X']\n",
    "    Y[i] = data[format(i, str_format)]['Y']"
   ]
  },
  {
   "cell_type": "code",
   "execution_count": 241,
   "id": "9929901c",
   "metadata": {
    "ExecuteTime": {
     "end_time": "2021-12-16T02:02:46.435344Z",
     "start_time": "2021-12-16T02:02:46.332482Z"
    }
   },
   "outputs": [
    {
     "data": {
      "text/plain": [
       "<matplotlib.collections.PathCollection at 0x7fcb31a14370>"
      ]
     },
     "execution_count": 241,
     "metadata": {},
     "output_type": "execute_result"
    },
    {
     "data": {
      "image/png": "[encoded data removed]",
      "text/plain": [
       "<Figure size 432x288 with 1 Axes>"
      ]
     },
     "metadata": {
      "needs_background": "light"
     },
     "output_type": "display_data"
    }
   ],
   "source": [
    "plt.scatter(X,Y)"
   ]
  },
  {
   "cell_type": "markdown",
   "id": "6b300777",
   "metadata": {},
   "source": [
    "Схема для построения графа:\n",
    "\n",
    "$$\\Large{\n",
    "\\begin{pmatrix}\n",
    "\\begin{pmatrix}\n",
    "i-1\\\\\n",
    "j+1\n",
    "\\end{pmatrix}&&\n",
    "\\begin{pmatrix}\n",
    "i\\\\\n",
    "j+1\n",
    "\\end{pmatrix}&&\n",
    "\\begin{pmatrix}\n",
    "i+1\\\\\n",
    "j+1\n",
    "\\end{pmatrix}\\\\\n",
    "\\begin{pmatrix}\n",
    "i-1\\\\\n",
    "j\n",
    "\\end{pmatrix}&&\n",
    "\\begin{pmatrix}\n",
    "i\\\\\n",
    "j\n",
    "\\end{pmatrix}&&\n",
    "\\begin{pmatrix}\n",
    "i+1\\\\\n",
    "j\n",
    "\\end{pmatrix}\\\\\n",
    "\\begin{pmatrix}\n",
    "i-1\\\\\n",
    "j-1\n",
    "\\end{pmatrix}&&\n",
    "\\begin{pmatrix}\n",
    "i\\\\\n",
    "j-1\n",
    "\\end{pmatrix}&&\n",
    "\\begin{pmatrix}\n",
    "i+1\\\\\n",
    "j-1\n",
    "\\end{pmatrix}\\\\\n",
    "\\end{pmatrix}\n",
    "}$$"
   ]
  },
  {
   "cell_type": "code",
   "execution_count": 246,
   "id": "ea80bb51",
   "metadata": {
    "ExecuteTime": {
     "end_time": "2021-12-16T02:04:51.412379Z",
     "start_time": "2021-12-16T02:04:51.366921Z"
    }
   },
   "outputs": [
    {
     "name": "stderr",
     "output_type": "stream",
     "text": [
      "100%|██████████████████████████████████████████████████████████████████████████████████████████████████████████████████████████████████████████████████████████████████████████████| 5/5 [00:00<00:00, 7767.23it/s]\n"
     ]
    },
    {
     "data": {
      "text/plain": [
       "{(377.033, 792.721): {(377.033, 862.994): 70.27300000000002,\n",
       "  (389.924, 862.994): 236.45088099999907,\n",
       "  (389.924, 792.721): 166.17788099999905,\n",
       "  (377.033, 688.907): 103.81399999999996,\n",
       "  (389.924, 688.907): 269.991880999999},\n",
       " (377.033, 984.44): {(377.033, 873.254): 111.18600000000004,\n",
       "  (389.924, 873.254): 277.3638809999991,\n",
       "  (389.924, 984.44): 166.17788099999905},\n",
       " (377.033, 862.994): {(377.033, 873.254): 10.259999999999991,\n",
       "  (389.924, 873.254): 176.43788099999904,\n",
       "  (389.924, 862.994): 166.17788099999905,\n",
       "  (377.033, 792.721): 70.27300000000002,\n",
       "  (389.924, 792.721): 236.45088099999907},\n",
       " (377.033, 688.907): {(377.033, 792.721): 103.81399999999996,\n",
       "  (389.924, 792.721): 269.991880999999,\n",
       "  (389.924, 688.907): 166.17788099999905},\n",
       " (377.033, 873.254): {(377.033, 984.44): 111.18600000000004,\n",
       "  (389.924, 984.44): 277.3638809999991,\n",
       "  (389.924, 873.254): 166.17788099999905,\n",
       "  (377.033, 862.994): 10.259999999999991,\n",
       "  (389.924, 862.994): 176.43788099999904},\n",
       " (389.924, 984.44): {(377.033, 984.44): 166.17788099999905,\n",
       "  (377.033, 873.254): 277.3638809999991,\n",
       "  (389.924, 873.254): 111.18600000000004,\n",
       "  (803.072, 873.254): 170802.455904,\n",
       "  (389.924, 984.44): 0.0},\n",
       " (389.924, 688.907): {(803.072, 688.907): 170691.26990400002,\n",
       "  (803.072, 792.721): 170795.08390400003,\n",
       "  (389.924, 792.721): 103.81399999999996,\n",
       "  (377.033, 792.721): 269.991880999999,\n",
       "  (377.033, 688.907): 166.17788099999905},\n",
       " (803.072, 984.44): {(389.924, 984.44): 170691.26990400002,\n",
       "  (389.924, 873.254): 170802.455904,\n",
       "  (803.072, 873.254): 111.18600000000004,\n",
       "  (935.905, 873.254): 17755.791888999993,\n",
       "  (803.072, 984.44): 0.0},\n",
       " (803.072, 688.907): {(935.905, 688.907): 17644.60588899999,\n",
       "  (935.905, 792.721): 17748.41988899999,\n",
       "  (803.072, 792.721): 103.81399999999996,\n",
       "  (389.924, 792.721): 170795.08390400003,\n",
       "  (389.924, 688.907): 170691.26990400002},\n",
       " (981.023, 792.721): {(981.023, 862.994): 70.27300000000002,\n",
       "  (935.905, 862.994): 2105.906924000005,\n",
       "  (935.905, 792.721): 2035.6339240000048,\n",
       "  (935.905, 688.907): 2139.4479240000046,\n",
       "  (981.023, 688.907): 103.81399999999996},\n",
       " (981.023, 984.44): {(935.905, 984.44): 2035.6339240000048,\n",
       "  (935.905, 873.254): 2146.819924000005,\n",
       "  (981.023, 873.254): 111.18600000000004},\n",
       " (981.023, 862.994): {(981.023, 873.254): 10.259999999999991,\n",
       "  (935.905, 873.254): 2045.8939240000047,\n",
       "  (935.905, 862.994): 2035.6339240000048,\n",
       "  (935.905, 792.721): 2105.906924000005,\n",
       "  (981.023, 792.721): 70.27300000000002},\n",
       " (981.023, 688.907): {(981.023, 792.721): 103.81399999999996,\n",
       "  (935.905, 792.721): 2139.4479240000046,\n",
       "  (935.905, 688.907): 2035.6339240000048},\n",
       " (981.023, 873.254): {(981.023, 984.44): 111.18600000000004,\n",
       "  (935.905, 984.44): 2146.819924000005,\n",
       "  (935.905, 873.254): 2035.6339240000048,\n",
       "  (935.905, 862.994): 2045.8939240000047,\n",
       "  (981.023, 862.994): 10.259999999999991},\n",
       " (935.905, 984.44): {(803.072, 984.44): 17644.60588899999,\n",
       "  (803.072, 873.254): 17755.791888999993,\n",
       "  (935.905, 873.254): 111.18600000000004,\n",
       "  (981.023, 873.254): 2146.819924000005,\n",
       "  (935.905, 984.44): 0.0},\n",
       " (935.905, 688.907): {(981.023, 688.907): 2035.6339240000048,\n",
       "  (981.023, 792.721): 2139.4479240000046,\n",
       "  (935.905, 792.721): 103.81399999999996,\n",
       "  (803.072, 792.721): 17748.41988899999,\n",
       "  (803.072, 688.907): 17644.60588899999}}"
      ]
     },
     "execution_count": 246,
     "metadata": {},
     "output_type": "execute_result"
    }
   ],
   "source": [
    "graph = dict()\n",
    "\n",
    "k = 0\n",
    "\n",
    "X_sort = np.sort(X)\n",
    "Y_sort = np.sort(Y)\n",
    "\n",
    "for i in tqdm(range(N)):\n",
    "    for j in range(N):\n",
    "        i_t = np.where(X_sort == X[i])[0][0]\n",
    "        j_t = np.where(Y_sort == Y[j])[0][0]\n",
    "        if i_t == 0 and j_t == 0:\n",
    "#             print(X_sort, X, X_sort[i_t], Y[j_t], sep='\\n')\n",
    "            graph[(X[i], Y[j])] = {(X_sort[i_t], Y_sort[j_t + 1]): \n",
    "                                   ((X_sort[i_t] - X[i])**2 + ((Y_sort[j_t + 1] - Y[j])**2)**0.5),\n",
    "                                   \n",
    "                                   (X_sort[i_t+1], Y_sort[j_t + 1]): \n",
    "                                   ((X_sort[i_t+1] - X[i])**2 + ((Y_sort[j_t + 1] - Y[j])**2)**0.5),\n",
    "                                   \n",
    "                                  (X_sort[i_t+1], Y_sort[j_t]): \n",
    "                                   ((X_sort[i_t+1] - X[i])**2 + ((Y_sort[j_t] - Y[j])**2)**0.5)}\n",
    "        elif i_t == 0 and j_t != 0 and j_t != N-1:\n",
    "            graph[(X[i], Y[j])] = {(X_sort[i_t], Y_sort[j_t + 1]): \n",
    "                                   ((X_sort[i_t] - X[i])**2 + ((Y_sort[j_t + 1] - Y[j])**2)**0.5),\n",
    "                                   \n",
    "                                   (X_sort[i_t+1], Y_sort[j_t + 1]): \n",
    "                                   ((X_sort[i_t+1] - X[i])**2 + ((Y_sort[j_t + 1] - Y[j])**2)**0.5),\n",
    "                                   \n",
    "                                   (X_sort[i_t+1], Y_sort[j_t]): \n",
    "                                   ((X_sort[i_t+1] - X[i])**2 + ((Y_sort[j_t] - Y[j])**2)**0.5),\n",
    "                                   \n",
    "                                   (X_sort[i_t], Y_sort[j_t - 1]): \n",
    "                                   ((X_sort[i_t] - X[i])**2 + ((Y_sort[j_t - 1] - Y[j])**2)**0.5),\n",
    "                                   \n",
    "                                   (X_sort[i_t+1], Y_sort[j_t - 1]): \n",
    "                                   ((X_sort[i_t+1] - X[i])**2 + ((Y_sort[j_t - 1] - Y[j])**2)**0.5)}\n",
    "            \n",
    "        elif i_t == 0 and j_t == N-1:\n",
    "            graph[(X[i], Y[j])] = {(X_sort[i_t], Y_sort[j_t-1]): \n",
    "                                   ((X_sort[i_t] - X[i])**2 + ((Y_sort[j_t-1] - Y[j])**2)**0.5),\n",
    "                                   \n",
    "                                   (X_sort[i_t+1], Y_sort[j_t-1]): \n",
    "                                   ((X_sort[i_t+1] - X[i])**2 + ((Y_sort[j_t-1] - Y[j])**2)**0.5),\n",
    "            \n",
    "                                   (X_sort[i_t+1], Y_sort[j_t]): \n",
    "                                   ((X_sort[i_t+1] - X[i])**2 + ((Y_sort[j_t] - Y[j])**2)**0.5)}\n",
    "            \n",
    "        elif i_t != 0 and i_t != N-1 and j_t == N-1:\n",
    "            graph[(X[i], Y[j])] = {(X_sort[i_t-1], Y_sort[j_t]): \n",
    "                                   ((X_sort[i_t-1] - X[i])**2 + ((Y_sort[j_t] - Y[j])**2)**0.5),\n",
    "                                   \n",
    "                                   (X_sort[i_t-1], Y_sort[j_t-1]): \n",
    "                                   ((X_sort[i_t-1] - X[i])**2 + ((Y_sort[j_t-1] - Y[j])**2)**0.5),\n",
    "            \n",
    "                                   (X_sort[i_t], Y_sort[j_t-1]): \n",
    "                                   ((X_sort[i_t] - X[i])**2 + ((Y_sort[j_t-1] - Y[j])**2)**0.5),\n",
    "            \n",
    "                                   (X_sort[i_t+1], Y_sort[j_t-1]): \n",
    "                                   ((X_sort[i_t+1] - X[i])**2 + ((Y_sort[j_t-1] - Y[j])**2)**0.5),\n",
    "            \n",
    "                                   (X_sort[i_t], Y_sort[j_t]): \n",
    "                                   ((X_sort[i_t] - X[i])**2 + ((Y_sort[j_t] - Y[j])**2)**0.5)}\n",
    "            \n",
    "        elif i_t == N-1 and j_t == N-1:\n",
    "            graph[(X[i], Y[j])] = {(X_sort[i_t-1], Y_sort[j_t]): \n",
    "                                   ((X_sort[i_t-1] - X[i])**2 + ((Y_sort[j_t] - Y[j])**2)**0.5),\n",
    "                                   \n",
    "                                   (X_sort[i_t-1], Y_sort[j_t-1]): \n",
    "                                   ((X_sort[i_t-1] - X[i])**2 + ((Y_sort[j_t-1] - Y[j])**2)**0.5),\n",
    "            \n",
    "                                   (X_sort[i_t], Y_sort[j_t-1]): \n",
    "                                   ((X_sort[i_t] - X[i])**2 + ((Y_sort[j_t-1] - Y[j])**2)**0.5)}\n",
    "            \n",
    "        elif i_t == N-1 and j_t != 0 and j_t != N-1:\n",
    "            graph[(X[i], Y[j])] = {(X_sort[i_t], Y_sort[j_t+1]): \n",
    "                                   ((X_sort[i_t] - X[i])**2 + ((Y_sort[j_t+1] - Y[j])**2)**0.5),\n",
    "                                   \n",
    "                                   (X_sort[i_t-1], Y_sort[j_t+1]): \n",
    "                                   ((X_sort[i_t-1] - X[i])**2 + ((Y_sort[j_t+1] - Y[j])**2)**0.5),\n",
    "            \n",
    "                                   (X_sort[i_t-1], Y_sort[j_t]): \n",
    "                                   ((X_sort[i_t-1] - X[i])**2 + ((Y_sort[j_t] - Y[j])**2)**0.5),\n",
    "            \n",
    "                                   (X_sort[i_t-1], Y_sort[j_t-1]): \n",
    "                                   ((X_sort[i_t-1] - X[i])**2 + ((Y_sort[j_t-1] - Y[j])**2)**0.5),\n",
    "            \n",
    "                                   (X_sort[i_t], Y_sort[j_t-1]): \n",
    "                                   ((X_sort[i_t] - X[i])**2 + ((Y_sort[j_t-1] - Y[j])**2)**0.5)}\n",
    "            \n",
    "        elif i_t == N-1 and j_t == 0:\n",
    "            graph[(X[i], Y[j])] = {(X_sort[i_t], Y_sort[j_t+1]): \n",
    "                                   ((X_sort[i_t] - X[i])**2 + ((Y_sort[j_t+1] - Y[j])**2)**0.5),\n",
    "                                   \n",
    "                                   (X_sort[i_t-1], Y_sort[j_t+1]): \n",
    "                                   ((X_sort[i_t-1] - X[i])**2 + ((Y_sort[j_t+1] - Y[j])**2)**0.5),\n",
    "            \n",
    "                                   (X_sort[i_t-1], Y_sort[j_t]): \n",
    "                                   ((X_sort[i_t-1] - X[i])**2 + ((Y_sort[j_t] - Y[j])**2)**0.5)}\n",
    "            \n",
    "        elif i_t != 0 and i_t != N-1 and j_t == 0:\n",
    "            graph[(X[i], Y[j])] = {(X_sort[i_t+1], Y_sort[j_t]): \n",
    "                                   ((X_sort[i_t+1] - X[i])**2 + ((Y_sort[j_t] - Y[j])**2)**0.5),\n",
    "                                   \n",
    "                                   (X_sort[i_t+1], Y_sort[j_t+1]): \n",
    "                                   ((X_sort[i_t+1] - X[i])**2 + ((Y_sort[j_t+1] - Y[j])**2)**0.5),\n",
    "            \n",
    "                                   (X_sort[i_t], Y_sort[j_t+1]): \n",
    "                                   ((X_sort[i_t] - X[i])**2 + ((Y_sort[j_t+1] - Y[j])**2)**0.5),\n",
    "            \n",
    "                                   (X_sort[i_t-1], Y_sort[j_t+1]): \n",
    "                                   ((X_sort[i_t-1] - X[i])**2 + ((Y_sort[j_t+1] - Y[j])**2)**0.5),\n",
    "            \n",
    "                                   (X_sort[i_t-1], Y_sort[j_t]): \n",
    "                                   ((X_sort[i_t-1] - X[i])**2 + ((Y_sort[j_t] - Y[j])**2)**0.5)}\n",
    "            \n",
    "            \n",
    "graph"
   ]
  },
  {
   "cell_type": "code",
   "execution_count": 243,
   "id": "3e5f4d84",
   "metadata": {
    "ExecuteTime": {
     "end_time": "2021-12-16T02:02:46.565324Z",
     "start_time": "2021-12-16T02:02:46.462338Z"
    }
   },
   "outputs": [
    {
     "data": {
      "text/plain": [
       "array([377.033, 377.033, 377.033, 377.033, 377.033, 389.924, 803.072,\n",
       "       935.905, 981.023, 981.023, 981.023, 981.023, 981.023])"
      ]
     },
     "execution_count": 243,
     "metadata": {},
     "output_type": "execute_result"
    },
    {
     "data": {
      "image/png": "[encoded data removed]",
      "text/plain": [
       "<Figure size 432x288 with 1 Axes>"
      ]
     },
     "metadata": {
      "needs_background": "light"
     },
     "output_type": "display_data"
    }
   ],
   "source": [
    "plot_data = np.array(list(graph.keys()))\n",
    "X_new = plot_data[:, 0]\n",
    "Y_new = plot_data[:, 1]\n",
    "plt.scatter(np.sort(X_new), np.sort(Y_new))\n",
    "np.sort(X_new)"
   ]
  },
  {
   "cell_type": "code",
   "execution_count": 244,
   "id": "af429373",
   "metadata": {
    "ExecuteTime": {
     "end_time": "2021-12-16T02:02:46.571099Z",
     "start_time": "2021-12-16T02:02:46.567553Z"
    }
   },
   "outputs": [],
   "source": [
    "test = np.array([[1,2,3,4],\n",
    "                 [5,6,7,8]])\n"
   ]
  }
 ],
 "metadata": {
  "kernelspec": {
   "display_name": "Python 3 (ipykernel)",
   "language": "python",
   "name": "python3"
  },
  "language_info": {
   "codemirror_mode": {
    "name": "ipython",
    "version": 3
   },
   "file_extension": ".py",
   "mimetype": "text/x-python",
   "name": "python",
   "nbconvert_exporter": "python",
   "pygments_lexer": "ipython3",
   "version": "3.9.7"
  },
  "toc": {
   "base_numbering": 1,
   "nav_menu": {},
   "number_sections": true,
   "sideBar": true,
   "skip_h1_title": false,
   "title_cell": "Table of Contents",
   "title_sidebar": "Contents",
   "toc_cell": false,
   "toc_position": {},
   "toc_section_display": true,
   "toc_window_display": false
  },
  "varInspector": {
   "cols": {
    "lenName": 16,
    "lenType": 16,
    "lenVar": 40
   },
   "kernels_config": {
    "python": {
     "delete_cmd_postfix": "",
     "delete_cmd_prefix": "del ",
     "library": "var_list.py",
     "varRefreshCmd": "print(var_dic_list())"
    },
    "r": {
     "delete_cmd_postfix": ") ",
     "delete_cmd_prefix": "rm(",
     "library": "var_list.r",
     "varRefreshCmd": "cat(var_dic_list()) "
    }
   },
   "types_to_exclude": [
    "module",
    "function",
    "builtin_function_or_method",
    "instance",
    "_Feature"
   ],
   "window_display": false
  }
 },
 "nbformat": 4,
 "nbformat_minor": 5
}
