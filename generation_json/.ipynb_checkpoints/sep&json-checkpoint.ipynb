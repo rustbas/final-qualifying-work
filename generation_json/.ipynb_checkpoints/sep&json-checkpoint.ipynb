{
 "cells": [
  {
   "cell_type": "code",
   "execution_count": 80,
   "id": "2a747e27",
   "metadata": {
    "ExecuteTime": {
     "end_time": "2021-12-19T21:03:55.097309Z",
     "start_time": "2021-12-19T21:03:55.094817Z"
    }
   },
   "outputs": [],
   "source": [
    "import matplotlib.pyplot as plt\n",
    "import numpy as np\n",
    "from scipy.stats import uniform\n",
    "from json import *\n",
    "from tqdm import tqdm\n",
    "\n",
    "str_format = '05d'"
   ]
  },
  {
   "cell_type": "markdown",
   "id": "f60b4e9e",
   "metadata": {},
   "source": [
    "# Генерация точек\n",
    "\n",
    "$$\\large{\n",
    "5 \\ точек \\sim U(100, 1000)\n",
    "}$$"
   ]
  },
  {
   "cell_type": "code",
   "execution_count": 81,
   "id": "1495403f",
   "metadata": {
    "ExecuteTime": {
     "end_time": "2021-12-19T21:03:55.136737Z",
     "start_time": "2021-12-19T21:03:55.134077Z"
    }
   },
   "outputs": [],
   "source": [
    "n = 5\n",
    "X = np.round(uniform.rvs(loc=100, scale=900, size=n), 3)\n",
    "Y = np.round(uniform.rvs(loc=100, scale=900, size=n), 3)\n"
   ]
  },
  {
   "cell_type": "markdown",
   "id": "80458ecf",
   "metadata": {},
   "source": [
    "# DATA2JSON"
   ]
  },
  {
   "cell_type": "code",
   "execution_count": 82,
   "id": "2d80e8dd",
   "metadata": {
    "ExecuteTime": {
     "end_time": "2021-12-19T21:03:55.170083Z",
     "start_time": "2021-12-19T21:03:55.167431Z"
    }
   },
   "outputs": [],
   "source": [
    "data = dict()\n",
    "for i in range(n):\n",
    "    data[format(i, str_format)] = {'X':X[i], 'Y':Y[i]}\n",
    "with open(\"coordinates.json\", \"w\") as outfile:\n",
    "    json.dump(data, outfile, indent=4)"
   ]
  },
  {
   "cell_type": "markdown",
   "id": "e30e969c",
   "metadata": {},
   "source": [
    "# JSON2DATA"
   ]
  },
  {
   "cell_type": "code",
   "execution_count": 83,
   "id": "ce4c88d5",
   "metadata": {
    "ExecuteTime": {
     "end_time": "2021-12-19T21:03:55.201314Z",
     "start_time": "2021-12-19T21:03:55.199099Z"
    }
   },
   "outputs": [],
   "source": [
    "with open(\"coordinates.json\") as infile:\n",
    "    data = load(infile)"
   ]
  },
  {
   "cell_type": "code",
   "execution_count": 84,
   "id": "7f1b3515",
   "metadata": {
    "ExecuteTime": {
     "end_time": "2021-12-19T21:03:55.205205Z",
     "start_time": "2021-12-19T21:03:55.202676Z"
    }
   },
   "outputs": [],
   "source": [
    "N = len(data)\n",
    "X = np.zeros(N)\n",
    "Y = np.zeros(N)\n",
    "\n",
    "for i in range(N):\n",
    "    X[i] = data[format(i, str_format)]['X']\n",
    "    Y[i] = data[format(i, str_format)]['Y']"
   ]
  },
  {
   "cell_type": "code",
   "execution_count": 85,
   "id": "9929901c",
   "metadata": {
    "ExecuteTime": {
     "end_time": "2021-12-19T21:03:55.289129Z",
     "start_time": "2021-12-19T21:03:55.206363Z"
    }
   },
   "outputs": [
    {
     "data": {
      "text/plain": [
       "<matplotlib.collections.PathCollection at 0x7f46b0c97580>"
      ]
     },
     "execution_count": 85,
     "metadata": {},
     "output_type": "execute_result"
    },
    {
     "data": {
      "image/png": "[encoded data removed]",
      "text/plain": [
       "<Figure size 432x288 with 1 Axes>"
      ]
     },
     "metadata": {
      "needs_background": "light"
     },
     "output_type": "display_data"
    }
   ],
   "source": [
    "plt.scatter(X,Y)"
   ]
  },
  {
   "cell_type": "markdown",
   "id": "6b300777",
   "metadata": {},
   "source": [
    "Схема для построения графа:\n",
    "\n",
    "$$\\Large{\n",
    "\\begin{pmatrix}\n",
    "\\begin{pmatrix}\n",
    "i-1\\\\\n",
    "j+1\n",
    "\\end{pmatrix}&&\n",
    "\\begin{pmatrix}\n",
    "i\\\\\n",
    "j+1\n",
    "\\end{pmatrix}&&\n",
    "\\begin{pmatrix}\n",
    "i+1\\\\\n",
    "j+1\n",
    "\\end{pmatrix}\\\\\n",
    "\\begin{pmatrix}\n",
    "i-1\\\\\n",
    "j\n",
    "\\end{pmatrix}&&\n",
    "\\begin{pmatrix}\n",
    "i\\\\\n",
    "j\n",
    "\\end{pmatrix}&&\n",
    "\\begin{pmatrix}\n",
    "i+1\\\\\n",
    "j\n",
    "\\end{pmatrix}\\\\\n",
    "\\begin{pmatrix}\n",
    "i-1\\\\\n",
    "j-1\n",
    "\\end{pmatrix}&&\n",
    "\\begin{pmatrix}\n",
    "i\\\\\n",
    "j-1\n",
    "\\end{pmatrix}&&\n",
    "\\begin{pmatrix}\n",
    "i+1\\\\\n",
    "j-1\n",
    "\\end{pmatrix}\\\\\n",
    "\\end{pmatrix}\n",
    "}$$"
   ]
  },
  {
   "cell_type": "code",
   "execution_count": 86,
   "id": "ea80bb51",
   "metadata": {
    "ExecuteTime": {
     "end_time": "2021-12-19T21:03:55.341964Z",
     "start_time": "2021-12-19T21:03:55.290751Z"
    }
   },
   "outputs": [
    {
     "name": "stderr",
     "output_type": "stream",
     "text": [
      "100%|█████████████████████████████████████████████████████████████████████████████████████████████████████████████████████████████████████████████████████████████████████████████| 5/5 [00:00<00:00, 11567.30it/s]\n"
     ]
    },
    {
     "data": {
      "text/plain": [
       "{(860.538, 924.565): {(860.538, 985.555): 60.989999999999895,\n",
       "  (802.107, 985.555): 3475.1717610000046,\n",
       "  (802.107, 924.565): 3414.181761000005,\n",
       "  (802.107, 577.098): 3761.648761000005,\n",
       "  (860.538, 577.098): 347.4670000000001},\n",
       " (860.538, 361.377): {(860.538, 547.466): 186.089,\n",
       "  (802.107, 547.466): 3600.2707610000048,\n",
       "  (802.107, 361.377): 3414.181761000005},\n",
       " (860.538, 985.555): {(802.107, 985.555): 3414.181761000005,\n",
       "  (802.107, 924.565): 3475.1717610000046,\n",
       "  (860.538, 924.565): 60.989999999999895},\n",
       " (860.538, 577.098): {(860.538, 924.565): 347.4670000000001,\n",
       "  (802.107, 924.565): 3761.648761000005,\n",
       "  (802.107, 577.098): 3414.181761000005,\n",
       "  (802.107, 547.466): 3443.813761000005,\n",
       "  (860.538, 547.466): 29.631999999999948},\n",
       " (860.538, 547.466): {(860.538, 577.098): 29.631999999999948,\n",
       "  (802.107, 577.098): 3443.813761000005,\n",
       "  (802.107, 547.466): 3414.181761000005,\n",
       "  (802.107, 361.377): 3600.2707610000048,\n",
       "  (860.538, 361.377): 186.089},\n",
       " (802.107, 361.377): {(860.538, 361.377): 3414.181761000005,\n",
       "  (860.538, 547.466): 3600.2707610000048,\n",
       "  (802.107, 547.466): 186.089,\n",
       "  (548.61, 547.466): 64446.81800899998,\n",
       "  (548.61, 361.377): 64260.72900899998},\n",
       " (802.107, 985.555): {(548.61, 985.555): 64260.72900899998,\n",
       "  (548.61, 924.565): 64321.71900899998,\n",
       "  (802.107, 924.565): 60.989999999999895,\n",
       "  (860.538, 924.565): 3475.1717610000046,\n",
       "  (802.107, 985.555): 0.0},\n",
       " (497.924, 361.377): {(548.61, 361.377): 2569.0705960000037,\n",
       "  (548.61, 547.466): 2755.1595960000036,\n",
       "  (497.924, 547.466): 186.089,\n",
       "  (274.644, 547.466): 50040.04739999999,\n",
       "  (274.644, 361.377): 49853.95839999999},\n",
       " (497.924, 985.555): {(274.644, 985.555): 49853.95839999999,\n",
       "  (274.644, 924.565): 49914.94839999999,\n",
       "  (497.924, 924.565): 60.989999999999895,\n",
       "  (548.61, 924.565): 2630.0605960000034,\n",
       "  (497.924, 985.555): 0.0},\n",
       " (274.644, 924.565): {(274.644, 985.555): 60.989999999999895,\n",
       "  (497.924, 985.555): 49914.94839999999,\n",
       "  (497.924, 924.565): 49853.95839999999,\n",
       "  (274.644, 577.098): 347.4670000000001,\n",
       "  (497.924, 577.098): 50201.425399999986},\n",
       " (274.644, 361.377): {(274.644, 547.466): 186.089,\n",
       "  (497.924, 547.466): 50040.04739999999,\n",
       "  (497.924, 361.377): 49853.95839999999},\n",
       " (274.644, 985.555): {(274.644, 924.565): 60.989999999999895,\n",
       "  (497.924, 924.565): 49914.94839999999,\n",
       "  (497.924, 985.555): 49853.95839999999},\n",
       " (274.644, 577.098): {(274.644, 924.565): 347.4670000000001,\n",
       "  (497.924, 924.565): 50201.425399999986,\n",
       "  (497.924, 577.098): 49853.95839999999,\n",
       "  (274.644, 547.466): 29.631999999999948,\n",
       "  (497.924, 547.466): 49883.59039999999},\n",
       " (274.644, 547.466): {(274.644, 577.098): 29.631999999999948,\n",
       "  (497.924, 577.098): 49883.59039999999,\n",
       "  (497.924, 547.466): 49853.95839999999,\n",
       "  (274.644, 361.377): 186.089,\n",
       "  (497.924, 361.377): 50040.04739999999},\n",
       " (548.61, 361.377): {(802.107, 361.377): 64260.72900899998,\n",
       "  (802.107, 547.466): 64446.81800899998,\n",
       "  (548.61, 547.466): 186.089,\n",
       "  (497.924, 547.466): 2755.1595960000036,\n",
       "  (497.924, 361.377): 2569.0705960000037},\n",
       " (548.61, 985.555): {(497.924, 985.555): 2569.0705960000037,\n",
       "  (497.924, 924.565): 2630.0605960000034,\n",
       "  (548.61, 924.565): 60.989999999999895,\n",
       "  (802.107, 924.565): 64321.71900899998,\n",
       "  (548.61, 985.555): 0.0}}"
      ]
     },
     "execution_count": 86,
     "metadata": {},
     "output_type": "execute_result"
    }
   ],
   "source": [
    "graph = dict()\n",
    "\n",
    "k = 0\n",
    "\n",
    "X_sort = np.sort(X)\n",
    "Y_sort = np.sort(Y)\n",
    "\n",
    "for i in tqdm(range(N)):\n",
    "    for j in range(N):\n",
    "        i_t = np.where(X_sort == X[i])[0][0]\n",
    "        j_t = np.where(Y_sort == Y[j])[0][0]\n",
    "        if i_t == 0 and j_t == 0:\n",
    "#             print(X_sort, X, X_sort[i_t], Y[j_t], sep='\\n')\n",
    "            graph[(X[i], Y[j])] = {(X_sort[i_t], Y_sort[j_t + 1]): \n",
    "                                   ((X_sort[i_t] - X[i])**2 + ((Y_sort[j_t + 1] - Y[j])**2)**0.5),\n",
    "                                   \n",
    "                                   (X_sort[i_t+1], Y_sort[j_t + 1]): \n",
    "                                   ((X_sort[i_t+1] - X[i])**2 + ((Y_sort[j_t + 1] - Y[j])**2)**0.5),\n",
    "                                   \n",
    "                                  (X_sort[i_t+1], Y_sort[j_t]): \n",
    "                                   ((X_sort[i_t+1] - X[i])**2 + ((Y_sort[j_t] - Y[j])**2)**0.5)}\n",
    "        elif i_t == 0 and j_t != 0 and j_t != N-1:\n",
    "            graph[(X[i], Y[j])] = {(X_sort[i_t], Y_sort[j_t + 1]): \n",
    "                                   ((X_sort[i_t] - X[i])**2 + ((Y_sort[j_t + 1] - Y[j])**2)**0.5),\n",
    "                                   \n",
    "                                   (X_sort[i_t+1], Y_sort[j_t + 1]): \n",
    "                                   ((X_sort[i_t+1] - X[i])**2 + ((Y_sort[j_t + 1] - Y[j])**2)**0.5),\n",
    "                                   \n",
    "                                   (X_sort[i_t+1], Y_sort[j_t]): \n",
    "                                   ((X_sort[i_t+1] - X[i])**2 + ((Y_sort[j_t] - Y[j])**2)**0.5),\n",
    "                                   \n",
    "                                   (X_sort[i_t], Y_sort[j_t - 1]): \n",
    "                                   ((X_sort[i_t] - X[i])**2 + ((Y_sort[j_t - 1] - Y[j])**2)**0.5),\n",
    "                                   \n",
    "                                   (X_sort[i_t+1], Y_sort[j_t - 1]): \n",
    "                                   ((X_sort[i_t+1] - X[i])**2 + ((Y_sort[j_t - 1] - Y[j])**2)**0.5)}\n",
    "            \n",
    "        elif i_t == 0 and j_t == N-1:\n",
    "            graph[(X[i], Y[j])] = {(X_sort[i_t], Y_sort[j_t-1]): \n",
    "                                   ((X_sort[i_t] - X[i])**2 + ((Y_sort[j_t-1] - Y[j])**2)**0.5),\n",
    "                                   \n",
    "                                   (X_sort[i_t+1], Y_sort[j_t-1]): \n",
    "                                   ((X_sort[i_t+1] - X[i])**2 + ((Y_sort[j_t-1] - Y[j])**2)**0.5),\n",
    "            \n",
    "                                   (X_sort[i_t+1], Y_sort[j_t]): \n",
    "                                   ((X_sort[i_t+1] - X[i])**2 + ((Y_sort[j_t] - Y[j])**2)**0.5)}\n",
    "            \n",
    "        elif i_t != 0 and i_t != N-1 and j_t == N-1:\n",
    "            graph[(X[i], Y[j])] = {(X_sort[i_t-1], Y_sort[j_t]): \n",
    "                                   ((X_sort[i_t-1] - X[i])**2 + ((Y_sort[j_t] - Y[j])**2)**0.5),\n",
    "                                   \n",
    "                                   (X_sort[i_t-1], Y_sort[j_t-1]): \n",
    "                                   ((X_sort[i_t-1] - X[i])**2 + ((Y_sort[j_t-1] - Y[j])**2)**0.5),\n",
    "            \n",
    "                                   (X_sort[i_t], Y_sort[j_t-1]): \n",
    "                                   ((X_sort[i_t] - X[i])**2 + ((Y_sort[j_t-1] - Y[j])**2)**0.5),\n",
    "            \n",
    "                                   (X_sort[i_t+1], Y_sort[j_t-1]): \n",
    "                                   ((X_sort[i_t+1] - X[i])**2 + ((Y_sort[j_t-1] - Y[j])**2)**0.5),\n",
    "            \n",
    "                                   (X_sort[i_t], Y_sort[j_t]): \n",
    "                                   ((X_sort[i_t] - X[i])**2 + ((Y_sort[j_t] - Y[j])**2)**0.5)}\n",
    "            \n",
    "        elif i_t == N-1 and j_t == N-1:\n",
    "            graph[(X[i], Y[j])] = {(X_sort[i_t-1], Y_sort[j_t]): \n",
    "                                   ((X_sort[i_t-1] - X[i])**2 + ((Y_sort[j_t] - Y[j])**2)**0.5),\n",
    "                                   \n",
    "                                   (X_sort[i_t-1], Y_sort[j_t-1]): \n",
    "                                   ((X_sort[i_t-1] - X[i])**2 + ((Y_sort[j_t-1] - Y[j])**2)**0.5),\n",
    "            \n",
    "                                   (X_sort[i_t], Y_sort[j_t-1]): \n",
    "                                   ((X_sort[i_t] - X[i])**2 + ((Y_sort[j_t-1] - Y[j])**2)**0.5)}\n",
    "            \n",
    "        elif i_t == N-1 and j_t != 0 and j_t != N-1:\n",
    "            graph[(X[i], Y[j])] = {(X_sort[i_t], Y_sort[j_t+1]): \n",
    "                                   ((X_sort[i_t] - X[i])**2 + ((Y_sort[j_t+1] - Y[j])**2)**0.5),\n",
    "                                   \n",
    "                                   (X_sort[i_t-1], Y_sort[j_t+1]): \n",
    "                                   ((X_sort[i_t-1] - X[i])**2 + ((Y_sort[j_t+1] - Y[j])**2)**0.5),\n",
    "            \n",
    "                                   (X_sort[i_t-1], Y_sort[j_t]): \n",
    "                                   ((X_sort[i_t-1] - X[i])**2 + ((Y_sort[j_t] - Y[j])**2)**0.5),\n",
    "            \n",
    "                                   (X_sort[i_t-1], Y_sort[j_t-1]): \n",
    "                                   ((X_sort[i_t-1] - X[i])**2 + ((Y_sort[j_t-1] - Y[j])**2)**0.5),\n",
    "            \n",
    "                                   (X_sort[i_t], Y_sort[j_t-1]): \n",
    "                                   ((X_sort[i_t] - X[i])**2 + ((Y_sort[j_t-1] - Y[j])**2)**0.5)}\n",
    "            \n",
    "        elif i_t == N-1 and j_t == 0:\n",
    "            graph[(X[i], Y[j])] = {(X_sort[i_t], Y_sort[j_t+1]): \n",
    "                                   ((X_sort[i_t] - X[i])**2 + ((Y_sort[j_t+1] - Y[j])**2)**0.5),\n",
    "                                   \n",
    "                                   (X_sort[i_t-1], Y_sort[j_t+1]): \n",
    "                                   ((X_sort[i_t-1] - X[i])**2 + ((Y_sort[j_t+1] - Y[j])**2)**0.5),\n",
    "            \n",
    "                                   (X_sort[i_t-1], Y_sort[j_t]): \n",
    "                                   ((X_sort[i_t-1] - X[i])**2 + ((Y_sort[j_t] - Y[j])**2)**0.5)}\n",
    "            \n",
    "        elif i_t != 0 and i_t != N-1 and j_t == 0:\n",
    "            graph[(X[i], Y[j])] = {(X_sort[i_t+1], Y_sort[j_t]): \n",
    "                                   ((X_sort[i_t+1] - X[i])**2 + ((Y_sort[j_t] - Y[j])**2)**0.5),\n",
    "                                   \n",
    "                                   (X_sort[i_t+1], Y_sort[j_t+1]): \n",
    "                                   ((X_sort[i_t+1] - X[i])**2 + ((Y_sort[j_t+1] - Y[j])**2)**0.5),\n",
    "            \n",
    "                                   (X_sort[i_t], Y_sort[j_t+1]): \n",
    "                                   ((X_sort[i_t] - X[i])**2 + ((Y_sort[j_t+1] - Y[j])**2)**0.5),\n",
    "            \n",
    "                                   (X_sort[i_t-1], Y_sort[j_t+1]): \n",
    "                                   ((X_sort[i_t-1] - X[i])**2 + ((Y_sort[j_t+1] - Y[j])**2)**0.5),\n",
    "            \n",
    "                                   (X_sort[i_t-1], Y_sort[j_t]): \n",
    "                                   ((X_sort[i_t-1] - X[i])**2 + ((Y_sort[j_t] - Y[j])**2)**0.5)}\n",
    "        elif 0 < i_t < N-1 and j_t == N-1:\n",
    "            graph[(X[i], Y[j])] = {(X_sort[i_t-1], Y_sort[j_t]): \n",
    "                                   ((X_sort[i_t-1] - X[i])**2 + ((Y_sort[j_t] - Y[j])**2)**0.5),\n",
    "\n",
    "                                   (X_sort[i_t-1], Y_sort[j_t-1]): \n",
    "                                   ((X_sort[i_t-1] - X[i])**2 + ((Y_sort[j_t-1] - Y[j])**2)**0.5),\n",
    "\n",
    "                                   (X_sort[i_t], Y_sort[j_t-1]): \n",
    "                                   ((X_sort[i_t] - X[i])**2 + ((Y_sort[j_t-1] - Y[j])**2)**0.5),\n",
    "\n",
    "                                   (X_sort[i_t+1], Y_sort[j_t-1]): \n",
    "                                   ((X_sort[i_t+1] - X[i])**2 + ((Y_sort[j_t-1] - Y[j])**2)**0.5),\n",
    "\n",
    "                                   (X_sort[i_t+1], Y_sort[j_t]): \n",
    "                                   ((X_sort[i_t+1] - X[i])**2 + ((Y_sort[j_t] - Y[j])**2)**0.5)}\n",
    "            \n",
    "graph"
   ]
  },
  {
   "cell_type": "code",
   "execution_count": 87,
   "id": "3e5f4d84",
   "metadata": {
    "ExecuteTime": {
     "end_time": "2021-12-19T21:03:55.427254Z",
     "start_time": "2021-12-19T21:03:55.342981Z"
    }
   },
   "outputs": [
    {
     "data": {
      "text/plain": [
       "array([274.644, 274.644, 274.644, 274.644, 274.644, 497.924, 497.924,\n",
       "       548.61 , 548.61 , 802.107, 802.107, 860.538, 860.538, 860.538,\n",
       "       860.538, 860.538])"
      ]
     },
     "execution_count": 87,
     "metadata": {},
     "output_type": "execute_result"
    },
    {
     "data": {
      "image/png": "[encoded data removed]",
      "text/plain": [
       "<Figure size 432x288 with 1 Axes>"
      ]
     },
     "metadata": {
      "needs_background": "light"
     },
     "output_type": "display_data"
    }
   ],
   "source": [
    "plot_data = np.array(list(graph.keys()))\n",
    "X_new = plot_data[:, 0]\n",
    "Y_new = plot_data[:, 1]\n",
    "plt.scatter(np.sort(X_new), np.sort(Y_new))\n",
    "np.sort(X_new)"
   ]
  },
  {
   "cell_type": "code",
   "execution_count": 88,
   "id": "af429373",
   "metadata": {
    "ExecuteTime": {
     "end_time": "2021-12-19T21:03:55.431775Z",
     "start_time": "2021-12-19T21:03:55.429100Z"
    }
   },
   "outputs": [],
   "source": [
    "test = np.array([[1,2,3,4],\n",
    "                 [5,6,7,8]])\n"
   ]
  },
  {
   "cell_type": "markdown",
   "id": "a945e577",
   "metadata": {},
   "source": [
    "# Оформление функций"
   ]
  },
  {
   "cell_type": "markdown",
   "id": "d6c96655",
   "metadata": {},
   "source": [
    "## DATA2JSON"
   ]
  },
  {
   "cell_type": "code",
   "execution_count": 89,
   "id": "38cc18cb",
   "metadata": {
    "ExecuteTime": {
     "end_time": "2021-12-19T21:03:55.437568Z",
     "start_time": "2021-12-19T21:03:55.433117Z"
    }
   },
   "outputs": [],
   "source": [
    "def DATA2JSON(X, Y, filename, str_format = '05d', digits = 3):\n",
    "    n = len(X)\n",
    "    data = dict()\n",
    "    for i in range(n):\n",
    "        data[format(i, str_format)] = {'X':round(X[i], digits), 'Y':round(Y[i], digits)}\n",
    "    with open(filename, \"w\") as outfile:\n",
    "        json.dump(data, outfile, indent=4)"
   ]
  },
  {
   "cell_type": "code",
   "execution_count": 90,
   "id": "e97bfe6b",
   "metadata": {
    "ExecuteTime": {
     "end_time": "2021-12-19T21:03:55.442261Z",
     "start_time": "2021-12-19T21:03:55.438976Z"
    }
   },
   "outputs": [],
   "source": [
    "X = np.random.uniform(size=4)\n",
    "Y = np.random.uniform(size=4)\n",
    "DATA2JSON(X,Y, 'test')"
   ]
  },
  {
   "cell_type": "markdown",
   "id": "99b9b4ba",
   "metadata": {},
   "source": [
    "## JSON2DATA"
   ]
  },
  {
   "cell_type": "code",
   "execution_count": 91,
   "id": "05f2e7ae",
   "metadata": {
    "ExecuteTime": {
     "end_time": "2021-12-19T21:03:55.447926Z",
     "start_time": "2021-12-19T21:03:55.443788Z"
    }
   },
   "outputs": [],
   "source": [
    "def JSON2DATA(filename, str_format = '05d', digits = 3):\n",
    "    with open(filename) as infile:\n",
    "        data = load(infile)\n",
    "    N = len(data)\n",
    "    X = np.zeros(N)\n",
    "    Y = np.zeros(N)\n",
    "\n",
    "    for i in range(N):\n",
    "        X[i] = data[format(i, str_format)]['X']\n",
    "        Y[i] = data[format(i, str_format)]['Y']\n",
    "    return X,Y"
   ]
  },
  {
   "cell_type": "code",
   "execution_count": 92,
   "id": "ba60f3aa",
   "metadata": {
    "ExecuteTime": {
     "end_time": "2021-12-19T21:03:55.451967Z",
     "start_time": "2021-12-19T21:03:55.449422Z"
    }
   },
   "outputs": [],
   "source": [
    "X,Y = JSON2DATA('test')"
   ]
  },
  {
   "cell_type": "markdown",
   "id": "7366c525",
   "metadata": {},
   "source": [
    "## Генерация графа"
   ]
  },
  {
   "cell_type": "markdown",
   "id": "8d8ce79e",
   "metadata": {},
   "source": [
    "Схема для построения графа:\n",
    "\n",
    "$$\\Large{\n",
    "\\begin{pmatrix}\n",
    "\\begin{pmatrix}\n",
    "i-1\\\\\n",
    "j+1\n",
    "\\end{pmatrix}&&\n",
    "\\begin{pmatrix}\n",
    "i\\\\\n",
    "j+1\n",
    "\\end{pmatrix}&&\n",
    "\\begin{pmatrix}\n",
    "i+1\\\\\n",
    "j+1\n",
    "\\end{pmatrix}\\\\\n",
    "\\begin{pmatrix}\n",
    "i-1\\\\\n",
    "j\n",
    "\\end{pmatrix}&&\n",
    "\\begin{pmatrix}\n",
    "i\\\\\n",
    "j\n",
    "\\end{pmatrix}&&\n",
    "\\begin{pmatrix}\n",
    "i+1\\\\\n",
    "j\n",
    "\\end{pmatrix}\\\\\n",
    "\\begin{pmatrix}\n",
    "i-1\\\\\n",
    "j-1\n",
    "\\end{pmatrix}&&\n",
    "\\begin{pmatrix}\n",
    "i\\\\\n",
    "j-1\n",
    "\\end{pmatrix}&&\n",
    "\\begin{pmatrix}\n",
    "i+1\\\\\n",
    "j-1\n",
    "\\end{pmatrix}\\\\\n",
    "\\end{pmatrix}\n",
    "}$$"
   ]
  },
  {
   "cell_type": "code",
   "execution_count": 93,
   "id": "561f2bf9",
   "metadata": {
    "ExecuteTime": {
     "end_time": "2021-12-19T21:03:55.483552Z",
     "start_time": "2021-12-19T21:03:55.453516Z"
    }
   },
   "outputs": [],
   "source": [
    "def graph_gen_continious(X,Y, str_format = '05d'):\n",
    "    graph = dict()\n",
    "    \n",
    "    N = len(X)\n",
    "\n",
    "    k = 0\n",
    "\n",
    "    X_sort = np.sort(X)\n",
    "    Y_sort = np.sort(Y)\n",
    "\n",
    "    for i in tqdm(range(N)):\n",
    "        for j in range(N):\n",
    "            i_t = np.where(X_sort == X[i])[0][0]\n",
    "            j_t = np.where(Y_sort == Y[j])[0][0]\n",
    "            if i_t == 0 and j_t == 0:\n",
    "    #             print(X_sort, X, X_sort[i_t], Y[j_t], sep='\\n')\n",
    "                graph[(X[i], Y[j])] = {(X_sort[i_t], Y_sort[j_t + 1]): \n",
    "                                       ((X_sort[i_t] - X[i])**2 + ((Y_sort[j_t + 1] - Y[j])**2)**0.5),\n",
    "\n",
    "                                       (X_sort[i_t+1], Y_sort[j_t + 1]): \n",
    "                                       ((X_sort[i_t+1] - X[i])**2 + ((Y_sort[j_t + 1] - Y[j])**2)**0.5),\n",
    "\n",
    "                                      (X_sort[i_t+1], Y_sort[j_t]): \n",
    "                                       ((X_sort[i_t+1] - X[i])**2 + ((Y_sort[j_t] - Y[j])**2)**0.5)}\n",
    "            elif i_t == 0 and 0 < j_t < N-1:\n",
    "                graph[(X[i], Y[j])] = {(X_sort[i_t], Y_sort[j_t + 1]): \n",
    "                                       ((X_sort[i_t] - X[i])**2 + ((Y_sort[j_t + 1] - Y[j])**2)**0.5),\n",
    "\n",
    "                                       (X_sort[i_t+1], Y_sort[j_t + 1]): \n",
    "                                       ((X_sort[i_t+1] - X[i])**2 + ((Y_sort[j_t + 1] - Y[j])**2)**0.5),\n",
    "\n",
    "                                       (X_sort[i_t+1], Y_sort[j_t]): \n",
    "                                       ((X_sort[i_t+1] - X[i])**2 + ((Y_sort[j_t] - Y[j])**2)**0.5),\n",
    "\n",
    "                                       (X_sort[i_t], Y_sort[j_t - 1]): \n",
    "                                       ((X_sort[i_t] - X[i])**2 + ((Y_sort[j_t - 1] - Y[j])**2)**0.5),\n",
    "\n",
    "                                       (X_sort[i_t+1], Y_sort[j_t - 1]): \n",
    "                                       ((X_sort[i_t+1] - X[i])**2 + ((Y_sort[j_t - 1] - Y[j])**2)**0.5)}\n",
    "\n",
    "            elif i_t == 0 and j_t == N-1:\n",
    "                graph[(X[i], Y[j])] = {(X_sort[i_t], Y_sort[j_t-1]): \n",
    "                                       ((X_sort[i_t] - X[i])**2 + ((Y_sort[j_t-1] - Y[j])**2)**0.5),\n",
    "\n",
    "                                       (X_sort[i_t+1], Y_sort[j_t-1]): \n",
    "                                       ((X_sort[i_t+1] - X[i])**2 + ((Y_sort[j_t-1] - Y[j])**2)**0.5),\n",
    "\n",
    "                                       (X_sort[i_t+1], Y_sort[j_t]): \n",
    "                                       ((X_sort[i_t+1] - X[i])**2 + ((Y_sort[j_t] - Y[j])**2)**0.5)}\n",
    "\n",
    "            elif 0 < i_t < N-1 and 0 < j_t < N-1:\n",
    "                graph[(X[i], Y[j])] = {(X_sort[i_t-1], Y_sort[j_t]): \n",
    "                                       ((X_sort[i_t-1] - X[i])**2 + ((Y_sort[j_t] - Y[j])**2)**0.5),\n",
    "\n",
    "                                       (X_sort[i_t-1], Y_sort[j_t-1]): \n",
    "                                       ((X_sort[i_t-1] - X[i])**2 + ((Y_sort[j_t-1] - Y[j])**2)**0.5),\n",
    "\n",
    "                                       (X_sort[i_t], Y_sort[j_t-1]): \n",
    "                                       ((X_sort[i_t] - X[i])**2 + ((Y_sort[j_t-1] - Y[j])**2)**0.5),\n",
    "\n",
    "                                       (X_sort[i_t+1], Y_sort[j_t-1]): \n",
    "                                       ((X_sort[i_t+1] - X[i])**2 + ((Y_sort[j_t-1] - Y[j])**2)**0.5),\n",
    "\n",
    "                                       (X_sort[i_t], Y_sort[j_t]): \n",
    "                                       ((X_sort[i_t] - X[i])**2 + ((Y_sort[j_t] - Y[j])**2)**0.5)}\n",
    "\n",
    "            elif i_t == N-1 and j_t == N-1:\n",
    "                graph[(X[i], Y[j])] = {(X_sort[i_t-1], Y_sort[j_t]): \n",
    "                                       ((X_sort[i_t-1] - X[i])**2 + ((Y_sort[j_t] - Y[j])**2)**0.5),\n",
    "\n",
    "                                       (X_sort[i_t-1], Y_sort[j_t-1]): \n",
    "                                       ((X_sort[i_t-1] - X[i])**2 + ((Y_sort[j_t-1] - Y[j])**2)**0.5),\n",
    "\n",
    "                                       (X_sort[i_t], Y_sort[j_t-1]): \n",
    "                                       ((X_sort[i_t] - X[i])**2 + ((Y_sort[j_t-1] - Y[j])**2)**0.5)}\n",
    "\n",
    "            elif i_t == N-1 and 0 < j_t < N-1:\n",
    "                graph[(X[i], Y[j])] = {(X_sort[i_t], Y_sort[j_t+1]): \n",
    "                                       ((X_sort[i_t] - X[i])**2 + ((Y_sort[j_t+1] - Y[j])**2)**0.5),\n",
    "\n",
    "                                       (X_sort[i_t-1], Y_sort[j_t+1]): \n",
    "                                       ((X_sort[i_t-1] - X[i])**2 + ((Y_sort[j_t+1] - Y[j])**2)**0.5),\n",
    "\n",
    "                                       (X_sort[i_t-1], Y_sort[j_t]): \n",
    "                                       ((X_sort[i_t-1] - X[i])**2 + ((Y_sort[j_t] - Y[j])**2)**0.5),\n",
    "\n",
    "                                       (X_sort[i_t-1], Y_sort[j_t-1]): \n",
    "                                       ((X_sort[i_t-1] - X[i])**2 + ((Y_sort[j_t-1] - Y[j])**2)**0.5),\n",
    "\n",
    "                                       (X_sort[i_t], Y_sort[j_t-1]): \n",
    "                                       ((X_sort[i_t] - X[i])**2 + ((Y_sort[j_t-1] - Y[j])**2)**0.5)}\n",
    "\n",
    "            elif i_t == N-1 and j_t == 0:\n",
    "                graph[(X[i], Y[j])] = {(X_sort[i_t], Y_sort[j_t+1]): \n",
    "                                       ((X_sort[i_t] - X[i])**2 + ((Y_sort[j_t+1] - Y[j])**2)**0.5),\n",
    "\n",
    "                                       (X_sort[i_t-1], Y_sort[j_t+1]): \n",
    "                                       ((X_sort[i_t-1] - X[i])**2 + ((Y_sort[j_t+1] - Y[j])**2)**0.5),\n",
    "\n",
    "                                       (X_sort[i_t-1], Y_sort[j_t]): \n",
    "                                       ((X_sort[i_t-1] - X[i])**2 + ((Y_sort[j_t] - Y[j])**2)**0.5)}\n",
    "\n",
    "            elif 0 < i_t < N-1 and j_t == 0:\n",
    "                graph[(X[i], Y[j])] = {(X_sort[i_t+1], Y_sort[j_t]): \n",
    "                                       ((X_sort[i_t+1] - X[i])**2 + ((Y_sort[j_t] - Y[j])**2)**0.5),\n",
    "\n",
    "                                       (X_sort[i_t+1], Y_sort[j_t+1]): \n",
    "                                       ((X_sort[i_t+1] - X[i])**2 + ((Y_sort[j_t+1] - Y[j])**2)**0.5),\n",
    "\n",
    "                                       (X_sort[i_t], Y_sort[j_t+1]): \n",
    "                                       ((X_sort[i_t] - X[i])**2 + ((Y_sort[j_t+1] - Y[j])**2)**0.5),\n",
    "\n",
    "                                       (X_sort[i_t-1], Y_sort[j_t+1]): \n",
    "                                       ((X_sort[i_t-1] - X[i])**2 + ((Y_sort[j_t+1] - Y[j])**2)**0.5),\n",
    "\n",
    "                                       (X_sort[i_t-1], Y_sort[j_t]): \n",
    "                                       ((X_sort[i_t-1] - X[i])**2 + ((Y_sort[j_t] - Y[j])**2)**0.5)}\n",
    "                \n",
    "            elif 0 < i_t < N-1 and j_t == N-1:\n",
    "                graph[(X[i], Y[j])] = {(X_sort[i_t-1], Y_sort[j_t]): \n",
    "                                       ((X_sort[i_t-1] - X[i])**2 + ((Y_sort[j_t] - Y[j])**2)**0.5),\n",
    "\n",
    "                                       (X_sort[i_t-1], Y_sort[j_t-1]): \n",
    "                                       ((X_sort[i_t-1] - X[i])**2 + ((Y_sort[j_t-1] - Y[j])**2)**0.5),\n",
    "\n",
    "                                       (X_sort[i_t], Y_sort[j_t-1]): \n",
    "                                       ((X_sort[i_t] - X[i])**2 + ((Y_sort[j_t-1] - Y[j])**2)**0.5),\n",
    "\n",
    "                                       (X_sort[i_t+1], Y_sort[j_t-1]): \n",
    "                                       ((X_sort[i_t+1] - X[i])**2 + ((Y_sort[j_t-1] - Y[j])**2)**0.5),\n",
    "\n",
    "                                       (X_sort[i_t+1], Y_sort[j_t]): \n",
    "                                       ((X_sort[i_t+1] - X[i])**2 + ((Y_sort[j_t] - Y[j])**2)**0.5)}\n",
    "    return graph"
   ]
  },
  {
   "cell_type": "code",
   "execution_count": 94,
   "id": "886c5c17",
   "metadata": {
    "ExecuteTime": {
     "end_time": "2021-12-19T21:03:55.607512Z",
     "start_time": "2021-12-19T21:03:55.486140Z"
    }
   },
   "outputs": [
    {
     "name": "stderr",
     "output_type": "stream",
     "text": [
      "100%|█████████████████████████████████████████████████████████████████████████████████████████████████████████████████████████████████████████████████████████████████████████████| 4/4 [00:00<00:00, 10578.32it/s]\n"
     ]
    },
    {
     "data": {
      "text/plain": [
       "<matplotlib.collections.PathCollection at 0x7f46b0bd7df0>"
      ]
     },
     "execution_count": 94,
     "metadata": {},
     "output_type": "execute_result"
    },
    {
     "data": {
      "image/png": "[encoded data removed]",
      "text/plain": [
       "<Figure size 432x288 with 1 Axes>"
      ]
     },
     "metadata": {
      "needs_background": "light"
     },
     "output_type": "display_data"
    }
   ],
   "source": [
    "test = graph_gen_continious(X,Y)\n",
    "sd = np.array(list(test.keys()))\n",
    "x = sd[:,0]\n",
    "y = sd[:,1]\n",
    "plt.scatter(x,y)"
   ]
  },
  {
   "cell_type": "code",
   "execution_count": null,
   "id": "ff6ea219",
   "metadata": {},
   "outputs": [],
   "source": []
  }
 ],
 "metadata": {
  "kernelspec": {
   "display_name": "Python 3 (ipykernel)",
   "language": "python",
   "name": "python3"
  },
  "language_info": {
   "codemirror_mode": {
    "name": "ipython",
    "version": 3
   },
   "file_extension": ".py",
   "mimetype": "text/x-python",
   "name": "python",
   "nbconvert_exporter": "python",
   "pygments_lexer": "ipython3",
   "version": "3.9.7"
  },
  "toc": {
   "base_numbering": 1,
   "nav_menu": {},
   "number_sections": true,
   "sideBar": true,
   "skip_h1_title": false,
   "title_cell": "Table of Contents",
   "title_sidebar": "Contents",
   "toc_cell": false,
   "toc_position": {
    "height": "calc(100% - 180px)",
    "left": "10px",
    "top": "150px",
    "width": "306.167px"
   },
   "toc_section_display": true,
   "toc_window_display": true
  },
  "varInspector": {
   "cols": {
    "lenName": 16,
    "lenType": 16,
    "lenVar": 40
   },
   "kernels_config": {
    "python": {
     "delete_cmd_postfix": "",
     "delete_cmd_prefix": "del ",
     "library": "var_list.py",
     "varRefreshCmd": "print(var_dic_list())"
    },
    "r": {
     "delete_cmd_postfix": ") ",
     "delete_cmd_prefix": "rm(",
     "library": "var_list.r",
     "varRefreshCmd": "cat(var_dic_list()) "
    }
   },
   "types_to_exclude": [
    "module",
    "function",
    "builtin_function_or_method",
    "instance",
    "_Feature"
   ],
   "window_display": false
  }
 },
 "nbformat": 4,
 "nbformat_minor": 5
}
